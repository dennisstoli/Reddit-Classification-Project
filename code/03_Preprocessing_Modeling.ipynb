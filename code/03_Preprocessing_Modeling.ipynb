{
 "cells": [
  {
   "cell_type": "markdown",
   "metadata": {},
   "source": [
    "# Preprocessing and Modeling"
   ]
  },
  {
   "cell_type": "code",
   "execution_count": 1,
   "metadata": {},
   "outputs": [],
   "source": [
    "import matplotlib.pyplot as plt\n",
    "import numpy as np\n",
    "import pandas as pd\n",
    "import seaborn as sns\n",
    "import warnings\n",
    "\n",
    "from sklearn.naive_bayes import MultinomialNB\n",
    "from sklearn.model_selection import train_test_split, GridSearchCV\n",
    "from sklearn.feature_extraction.text import CountVectorizer, TfidfVectorizer\n",
    "from sklearn.pipeline import make_pipeline\n",
    "from sklearn.linear_model import LogisticRegression\n",
    "from sklearn import datasets, metrics, model_selection, svm #found on sklearn ROC Curve docs"
   ]
  },
  {
   "cell_type": "code",
   "execution_count": 2,
   "metadata": {},
   "outputs": [],
   "source": [
    "warnings.filterwarnings('ignore')"
   ]
  },
  {
   "cell_type": "code",
   "execution_count": 3,
   "metadata": {},
   "outputs": [],
   "source": [
    "subreddit_df = pd.read_csv('../data/clean_data.csv') #read in clean data"
   ]
  },
  {
   "cell_type": "code",
   "execution_count": 4,
   "metadata": {},
   "outputs": [
    {
     "data": {
      "text/plain": [
       "subreddit           0\n",
       "title               0\n",
       "author              0\n",
       "title_length        0\n",
       "title_word_count    0\n",
       "clean_title         0\n",
       "dtype: int64"
      ]
     },
     "execution_count": 4,
     "metadata": {},
     "output_type": "execute_result"
    }
   ],
   "source": [
    "subreddit_df.isna().sum() #check nans"
   ]
  },
  {
   "cell_type": "code",
   "execution_count": 5,
   "metadata": {},
   "outputs": [],
   "source": [
    "subreddit_df = subreddit_df.dropna() #drop nans"
   ]
  },
  {
   "cell_type": "code",
   "execution_count": 6,
   "metadata": {},
   "outputs": [
    {
     "data": {
      "text/html": [
       "<div>\n",
       "<style scoped>\n",
       "    .dataframe tbody tr th:only-of-type {\n",
       "        vertical-align: middle;\n",
       "    }\n",
       "\n",
       "    .dataframe tbody tr th {\n",
       "        vertical-align: top;\n",
       "    }\n",
       "\n",
       "    .dataframe thead th {\n",
       "        text-align: right;\n",
       "    }\n",
       "</style>\n",
       "<table border=\"1\" class=\"dataframe\">\n",
       "  <thead>\n",
       "    <tr style=\"text-align: right;\">\n",
       "      <th></th>\n",
       "      <th>subreddit</th>\n",
       "      <th>title</th>\n",
       "      <th>author</th>\n",
       "      <th>title_length</th>\n",
       "      <th>title_word_count</th>\n",
       "      <th>clean_title</th>\n",
       "    </tr>\n",
       "  </thead>\n",
       "  <tbody>\n",
       "    <tr>\n",
       "      <th>0</th>\n",
       "      <td>Bitcoin</td>\n",
       "      <td>Keep being impressed by the S2FX model by Plan...</td>\n",
       "      <td>Scream1e</td>\n",
       "      <td>83</td>\n",
       "      <td>15</td>\n",
       "      <td>keep impressed s2fx model planb well predicts ...</td>\n",
       "    </tr>\n",
       "    <tr>\n",
       "      <th>1</th>\n",
       "      <td>Bitcoin</td>\n",
       "      <td>Perhaps someone will be able to support the fa...</td>\n",
       "      <td>bel-svoboda</td>\n",
       "      <td>76</td>\n",
       "      <td>14</td>\n",
       "      <td>perhaps someone able support family political ...</td>\n",
       "    </tr>\n",
       "    <tr>\n",
       "      <th>2</th>\n",
       "      <td>Bitcoin</td>\n",
       "      <td>Bears to the gulag!</td>\n",
       "      <td>heist95</td>\n",
       "      <td>19</td>\n",
       "      <td>4</td>\n",
       "      <td>bear gulag</td>\n",
       "    </tr>\n",
       "    <tr>\n",
       "      <th>3</th>\n",
       "      <td>Bitcoin</td>\n",
       "      <td>Can we have honest discussion about side effec...</td>\n",
       "      <td>Manic_Miner2</td>\n",
       "      <td>79</td>\n",
       "      <td>13</td>\n",
       "      <td>honest discussion side effect always positive</td>\n",
       "    </tr>\n",
       "    <tr>\n",
       "      <th>4</th>\n",
       "      <td>Bitcoin</td>\n",
       "      <td>Active nfl player going to convert full salary...</td>\n",
       "      <td>Crafty_Supermarket15</td>\n",
       "      <td>57</td>\n",
       "      <td>10</td>\n",
       "      <td>active nfl player going convert full salary bi...</td>\n",
       "    </tr>\n",
       "    <tr>\n",
       "      <th>...</th>\n",
       "      <td>...</td>\n",
       "      <td>...</td>\n",
       "      <td>...</td>\n",
       "      <td>...</td>\n",
       "      <td>...</td>\n",
       "      <td>...</td>\n",
       "    </tr>\n",
       "    <tr>\n",
       "      <th>18734</th>\n",
       "      <td>wallstreetbets</td>\n",
       "      <td>SNDL to the moon 🚀🚀🚀🚀🚀🚀 yolo!!</td>\n",
       "      <td>fk232323</td>\n",
       "      <td>30</td>\n",
       "      <td>6</td>\n",
       "      <td>sndl moon yolo</td>\n",
       "    </tr>\n",
       "    <tr>\n",
       "      <th>18735</th>\n",
       "      <td>wallstreetbets</td>\n",
       "      <td>I sent a gift to Ken Griffin at Citadel from A...</td>\n",
       "      <td>StockWizard_</td>\n",
       "      <td>119</td>\n",
       "      <td>21</td>\n",
       "      <td>sent gift ken griffin citadel amazon com guide...</td>\n",
       "    </tr>\n",
       "    <tr>\n",
       "      <th>18736</th>\n",
       "      <td>wallstreetbets</td>\n",
       "      <td>Ay bawse</td>\n",
       "      <td>z00tsuitnboogie</td>\n",
       "      <td>8</td>\n",
       "      <td>2</td>\n",
       "      <td>ay bawse</td>\n",
       "    </tr>\n",
       "    <tr>\n",
       "      <th>18737</th>\n",
       "      <td>wallstreetbets</td>\n",
       "      <td>GME/WSB Hype Vid (Haven't personally seen one ...</td>\n",
       "      <td>DistinguishedJB</td>\n",
       "      <td>90</td>\n",
       "      <td>18</td>\n",
       "      <td>gme wsb hype vid personally seen one week two ...</td>\n",
       "    </tr>\n",
       "    <tr>\n",
       "      <th>18738</th>\n",
       "      <td>wallstreetbets</td>\n",
       "      <td>Apes! Together, strong</td>\n",
       "      <td>NewAgePhilosophr</td>\n",
       "      <td>22</td>\n",
       "      <td>3</td>\n",
       "      <td>ape together strong</td>\n",
       "    </tr>\n",
       "  </tbody>\n",
       "</table>\n",
       "<p>18739 rows × 6 columns</p>\n",
       "</div>"
      ],
      "text/plain": [
       "            subreddit                                              title  \\\n",
       "0             Bitcoin  Keep being impressed by the S2FX model by Plan...   \n",
       "1             Bitcoin  Perhaps someone will be able to support the fa...   \n",
       "2             Bitcoin                                Bears to the gulag!   \n",
       "3             Bitcoin  Can we have honest discussion about side effec...   \n",
       "4             Bitcoin  Active nfl player going to convert full salary...   \n",
       "...               ...                                                ...   \n",
       "18734  wallstreetbets                     SNDL to the moon 🚀🚀🚀🚀🚀🚀 yolo!!   \n",
       "18735  wallstreetbets  I sent a gift to Ken Griffin at Citadel from A...   \n",
       "18736  wallstreetbets                                           Ay bawse   \n",
       "18737  wallstreetbets  GME/WSB Hype Vid (Haven't personally seen one ...   \n",
       "18738  wallstreetbets                             Apes! Together, strong   \n",
       "\n",
       "                     author  title_length  title_word_count  \\\n",
       "0                  Scream1e            83                15   \n",
       "1               bel-svoboda            76                14   \n",
       "2                   heist95            19                 4   \n",
       "3              Manic_Miner2            79                13   \n",
       "4      Crafty_Supermarket15            57                10   \n",
       "...                     ...           ...               ...   \n",
       "18734              fk232323            30                 6   \n",
       "18735          StockWizard_           119                21   \n",
       "18736       z00tsuitnboogie             8                 2   \n",
       "18737       DistinguishedJB            90                18   \n",
       "18738      NewAgePhilosophr            22                 3   \n",
       "\n",
       "                                             clean_title  \n",
       "0      keep impressed s2fx model planb well predicts ...  \n",
       "1      perhaps someone able support family political ...  \n",
       "2                                             bear gulag  \n",
       "3          honest discussion side effect always positive  \n",
       "4      active nfl player going convert full salary bi...  \n",
       "...                                                  ...  \n",
       "18734                                     sndl moon yolo  \n",
       "18735  sent gift ken griffin citadel amazon com guide...  \n",
       "18736                                           ay bawse  \n",
       "18737  gme wsb hype vid personally seen one week two ...  \n",
       "18738                                ape together strong  \n",
       "\n",
       "[18739 rows x 6 columns]"
      ]
     },
     "execution_count": 6,
     "metadata": {},
     "output_type": "execute_result"
    }
   ],
   "source": [
    "subreddit_df"
   ]
  },
  {
   "cell_type": "code",
   "execution_count": 7,
   "metadata": {},
   "outputs": [],
   "source": [
    "subreddit_df = subreddit_df[['title', 'clean_title', 'subreddit']] #Only features we want"
   ]
  },
  {
   "cell_type": "code",
   "execution_count": 8,
   "metadata": {},
   "outputs": [
    {
     "data": {
      "text/html": [
       "<div>\n",
       "<style scoped>\n",
       "    .dataframe tbody tr th:only-of-type {\n",
       "        vertical-align: middle;\n",
       "    }\n",
       "\n",
       "    .dataframe tbody tr th {\n",
       "        vertical-align: top;\n",
       "    }\n",
       "\n",
       "    .dataframe thead th {\n",
       "        text-align: right;\n",
       "    }\n",
       "</style>\n",
       "<table border=\"1\" class=\"dataframe\">\n",
       "  <thead>\n",
       "    <tr style=\"text-align: right;\">\n",
       "      <th></th>\n",
       "      <th>title</th>\n",
       "      <th>clean_title</th>\n",
       "      <th>subreddit</th>\n",
       "    </tr>\n",
       "  </thead>\n",
       "  <tbody>\n",
       "    <tr>\n",
       "      <th>0</th>\n",
       "      <td>Keep being impressed by the S2FX model by Plan...</td>\n",
       "      <td>keep impressed s2fx model planb well predicts ...</td>\n",
       "      <td>Bitcoin</td>\n",
       "    </tr>\n",
       "    <tr>\n",
       "      <th>1</th>\n",
       "      <td>Perhaps someone will be able to support the fa...</td>\n",
       "      <td>perhaps someone able support family political ...</td>\n",
       "      <td>Bitcoin</td>\n",
       "    </tr>\n",
       "    <tr>\n",
       "      <th>2</th>\n",
       "      <td>Bears to the gulag!</td>\n",
       "      <td>bear gulag</td>\n",
       "      <td>Bitcoin</td>\n",
       "    </tr>\n",
       "    <tr>\n",
       "      <th>3</th>\n",
       "      <td>Can we have honest discussion about side effec...</td>\n",
       "      <td>honest discussion side effect always positive</td>\n",
       "      <td>Bitcoin</td>\n",
       "    </tr>\n",
       "    <tr>\n",
       "      <th>4</th>\n",
       "      <td>Active nfl player going to convert full salary...</td>\n",
       "      <td>active nfl player going convert full salary bi...</td>\n",
       "      <td>Bitcoin</td>\n",
       "    </tr>\n",
       "    <tr>\n",
       "      <th>...</th>\n",
       "      <td>...</td>\n",
       "      <td>...</td>\n",
       "      <td>...</td>\n",
       "    </tr>\n",
       "    <tr>\n",
       "      <th>18734</th>\n",
       "      <td>SNDL to the moon 🚀🚀🚀🚀🚀🚀 yolo!!</td>\n",
       "      <td>sndl moon yolo</td>\n",
       "      <td>wallstreetbets</td>\n",
       "    </tr>\n",
       "    <tr>\n",
       "      <th>18735</th>\n",
       "      <td>I sent a gift to Ken Griffin at Citadel from A...</td>\n",
       "      <td>sent gift ken griffin citadel amazon com guide...</td>\n",
       "      <td>wallstreetbets</td>\n",
       "    </tr>\n",
       "    <tr>\n",
       "      <th>18736</th>\n",
       "      <td>Ay bawse</td>\n",
       "      <td>ay bawse</td>\n",
       "      <td>wallstreetbets</td>\n",
       "    </tr>\n",
       "    <tr>\n",
       "      <th>18737</th>\n",
       "      <td>GME/WSB Hype Vid (Haven't personally seen one ...</td>\n",
       "      <td>gme wsb hype vid personally seen one week two ...</td>\n",
       "      <td>wallstreetbets</td>\n",
       "    </tr>\n",
       "    <tr>\n",
       "      <th>18738</th>\n",
       "      <td>Apes! Together, strong</td>\n",
       "      <td>ape together strong</td>\n",
       "      <td>wallstreetbets</td>\n",
       "    </tr>\n",
       "  </tbody>\n",
       "</table>\n",
       "<p>18739 rows × 3 columns</p>\n",
       "</div>"
      ],
      "text/plain": [
       "                                                   title  \\\n",
       "0      Keep being impressed by the S2FX model by Plan...   \n",
       "1      Perhaps someone will be able to support the fa...   \n",
       "2                                    Bears to the gulag!   \n",
       "3      Can we have honest discussion about side effec...   \n",
       "4      Active nfl player going to convert full salary...   \n",
       "...                                                  ...   \n",
       "18734                     SNDL to the moon 🚀🚀🚀🚀🚀🚀 yolo!!   \n",
       "18735  I sent a gift to Ken Griffin at Citadel from A...   \n",
       "18736                                           Ay bawse   \n",
       "18737  GME/WSB Hype Vid (Haven't personally seen one ...   \n",
       "18738                             Apes! Together, strong   \n",
       "\n",
       "                                             clean_title       subreddit  \n",
       "0      keep impressed s2fx model planb well predicts ...         Bitcoin  \n",
       "1      perhaps someone able support family political ...         Bitcoin  \n",
       "2                                             bear gulag         Bitcoin  \n",
       "3          honest discussion side effect always positive         Bitcoin  \n",
       "4      active nfl player going convert full salary bi...         Bitcoin  \n",
       "...                                                  ...             ...  \n",
       "18734                                     sndl moon yolo  wallstreetbets  \n",
       "18735  sent gift ken griffin citadel amazon com guide...  wallstreetbets  \n",
       "18736                                           ay bawse  wallstreetbets  \n",
       "18737  gme wsb hype vid personally seen one week two ...  wallstreetbets  \n",
       "18738                                ape together strong  wallstreetbets  \n",
       "\n",
       "[18739 rows x 3 columns]"
      ]
     },
     "execution_count": 8,
     "metadata": {},
     "output_type": "execute_result"
    }
   ],
   "source": [
    "subreddit_df"
   ]
  },
  {
   "cell_type": "markdown",
   "metadata": {},
   "source": [
    "### Modeling"
   ]
  },
  {
   "cell_type": "code",
   "execution_count": 9,
   "metadata": {},
   "outputs": [],
   "source": [
    "X = subreddit_df['clean_title'] #lets score on our clean title \n",
    "y = subreddit_df['subreddit'] #our target\n",
    "y = y.map({'Bitcoin': 1, 'wallstreetbets': 0}) #remap"
   ]
  },
  {
   "cell_type": "code",
   "execution_count": 10,
   "metadata": {},
   "outputs": [
    {
     "data": {
      "text/plain": [
       "1    0.508565\n",
       "0    0.491435\n",
       "Name: subreddit, dtype: float64"
      ]
     },
     "execution_count": 10,
     "metadata": {},
     "output_type": "execute_result"
    }
   ],
   "source": [
    "y.value_counts(normalize = True) #baseline score, we want to score better than 0.508563, not very good! We can do it\n",
    "#we can naturely score a 0.508563, which is essentially a coin flip, let's build a predicitng model to beat it.\n",
    "# The baseline accuracy is the percentage of the majority class, regardless of whether it is 1 or 0. It serves as the benchmark for our model to beat!"
   ]
  },
  {
   "cell_type": "code",
   "execution_count": 11,
   "metadata": {},
   "outputs": [],
   "source": [
    "X_train, X_test, y_train, y_test = train_test_split(X, y, stratify = y, random_state = 0)"
   ]
  },
  {
   "cell_type": "markdown",
   "metadata": {},
   "source": [
    "### Model with CountVectorizer and Logistic Regression"
   ]
  },
  {
   "cell_type": "code",
   "execution_count": 12,
   "metadata": {},
   "outputs": [
    {
     "data": {
      "text/plain": [
       "GridSearchCV(estimator=Pipeline(steps=[('countvectorizer', CountVectorizer()),\n",
       "                                       ('logisticregression',\n",
       "                                        LogisticRegression())]),\n",
       "             n_jobs=-1,\n",
       "             param_grid={'countvectorizer__ngram_range': [(1, 1), (1, 2),\n",
       "                                                          (1, 3)],\n",
       "                         'countvectorizer__stop_words': ['english'],\n",
       "                         'logisticregression__C': [0.1, 1, 10],\n",
       "                         'logisticregression__penalty': ['l1', 'l2']})"
      ]
     },
     "execution_count": 12,
     "metadata": {},
     "output_type": "execute_result"
    }
   ],
   "source": [
    "pipe = make_pipeline(CountVectorizer(), LogisticRegression())\n",
    "\n",
    "#hyperparameters that we will test across\n",
    "params = {\n",
    "'countvectorizer__ngram_range': [(1, 1), (1, 2), (1, 3)],\n",
    "'countvectorizer__stop_words': ['english'],\n",
    "'logisticregression__penalty': ['l1','l2'],\n",
    "'logisticregression__C': [0.1, 1, 10]\n",
    "}\n",
    "\n",
    "#GridSearch\n",
    "gs_cvect_lrg = GridSearchCV(pipe, params, n_jobs=-1)\n",
    "gs_cvect_lrg.fit(X_train, y_train)"
   ]
  },
  {
   "cell_type": "code",
   "execution_count": 13,
   "metadata": {},
   "outputs": [
    {
     "data": {
      "text/plain": [
       "0.9799345382097624"
      ]
     },
     "execution_count": 13,
     "metadata": {},
     "output_type": "execute_result"
    }
   ],
   "source": [
    "gs_cvect_lrg.score(X_train, y_train) #slightly overfit"
   ]
  },
  {
   "cell_type": "code",
   "execution_count": 14,
   "metadata": {},
   "outputs": [
    {
     "data": {
      "text/plain": [
       "0.8678762006403415"
      ]
     },
     "execution_count": 14,
     "metadata": {},
     "output_type": "execute_result"
    }
   ],
   "source": [
    "gs_cvect_lrg.score(X_test, y_test) #not bad score"
   ]
  },
  {
   "cell_type": "code",
   "execution_count": 15,
   "metadata": {},
   "outputs": [
    {
     "data": {
      "text/plain": [
       "{'countvectorizer__ngram_range': (1, 3),\n",
       " 'countvectorizer__stop_words': 'english',\n",
       " 'logisticregression__C': 1,\n",
       " 'logisticregression__penalty': 'l2'}"
      ]
     },
     "execution_count": 15,
     "metadata": {},
     "output_type": "execute_result"
    }
   ],
   "source": [
    "gs_cvect_lrg.best_params_"
   ]
  },
  {
   "cell_type": "markdown",
   "metadata": {},
   "source": [
    "### Model with TfidfVectorizer and Logistic Regression"
   ]
  },
  {
   "cell_type": "code",
   "execution_count": 16,
   "metadata": {},
   "outputs": [
    {
     "data": {
      "text/plain": [
       "GridSearchCV(estimator=Pipeline(steps=[('tfidfvectorizer', TfidfVectorizer()),\n",
       "                                       ('logisticregression',\n",
       "                                        LogisticRegression())]),\n",
       "             n_jobs=-1,\n",
       "             param_grid={'logisticregression__C': [0.1, 1, 10],\n",
       "                         'logisticregression__penalty': ['l1', 'l2'],\n",
       "                         'tfidfvectorizer__ngram_range': [(1, 1), (1, 2),\n",
       "                                                          (1, 3)],\n",
       "                         'tfidfvectorizer__stop_words': ['english']})"
      ]
     },
     "execution_count": 16,
     "metadata": {},
     "output_type": "execute_result"
    }
   ],
   "source": [
    "pipe = make_pipeline(TfidfVectorizer(), LogisticRegression())\n",
    "\n",
    "\n",
    "params = {\n",
    "'tfidfvectorizer__ngram_range': [(1, 1), (1, 2), (1, 3)],\n",
    "'tfidfvectorizer__stop_words': ['english'],\n",
    "'logisticregression__penalty': ['l1', 'l2'],\n",
    "'logisticregression__C': [0.1, 1, 10]\n",
    "}\n",
    "\n",
    "gs_tfidf_lgr = GridSearchCV(pipe, params, n_jobs=-1)\n",
    "gs_tfidf_lgr.fit(X_train, y_train)"
   ]
  },
  {
   "cell_type": "code",
   "execution_count": 17,
   "metadata": {},
   "outputs": [
    {
     "data": {
      "text/plain": [
       "0.9628575494521133"
      ]
     },
     "execution_count": 17,
     "metadata": {},
     "output_type": "execute_result"
    }
   ],
   "source": [
    "gs_tfidf_lgr.score(X_train, y_train) #less overfit than cvect"
   ]
  },
  {
   "cell_type": "code",
   "execution_count": 18,
   "metadata": {},
   "outputs": [
    {
     "data": {
      "text/plain": [
       "0.8676627534685165"
      ]
     },
     "execution_count": 18,
     "metadata": {},
     "output_type": "execute_result"
    }
   ],
   "source": [
    "gs_tfidf_lgr.score(X_test, y_test) #slightly worse score"
   ]
  },
  {
   "cell_type": "code",
   "execution_count": 19,
   "metadata": {},
   "outputs": [
    {
     "data": {
      "text/plain": [
       "{'logisticregression__C': 1,\n",
       " 'logisticregression__penalty': 'l2',\n",
       " 'tfidfvectorizer__ngram_range': (1, 3),\n",
       " 'tfidfvectorizer__stop_words': 'english'}"
      ]
     },
     "execution_count": 19,
     "metadata": {},
     "output_type": "execute_result"
    }
   ],
   "source": [
    "gs_tfidf_lgr.best_params_"
   ]
  },
  {
   "cell_type": "markdown",
   "metadata": {},
   "source": [
    "### Model with CountVectorizer and Naive Bayes"
   ]
  },
  {
   "cell_type": "code",
   "execution_count": 20,
   "metadata": {},
   "outputs": [
    {
     "data": {
      "text/plain": [
       "GridSearchCV(estimator=Pipeline(steps=[('countvectorizer', CountVectorizer()),\n",
       "                                       ('multinomialnb', MultinomialNB())]),\n",
       "             n_jobs=-1,\n",
       "             param_grid={'countvectorizer__ngram_range': [(1, 1), (1, 2),\n",
       "                                                          (1, 3)],\n",
       "                         'countvectorizer__stop_words': ['english'],\n",
       "                         'multinomialnb__alpha': [0.01, 0.1, 1.0, 10.0]})"
      ]
     },
     "execution_count": 20,
     "metadata": {},
     "output_type": "execute_result"
    }
   ],
   "source": [
    "pipe = make_pipeline(CountVectorizer(), MultinomialNB())\n",
    "\n",
    "\n",
    "params = {\n",
    "'countvectorizer__ngram_range': [(1, 1), (1, 2), (1, 3)],\n",
    "'countvectorizer__stop_words': ['english'],\n",
    "'multinomialnb__alpha': [0.01, 0.1, 1.0, 10.0]\n",
    "}\n",
    "\n",
    "gs_cvect_naive = GridSearchCV(pipe, params, n_jobs=-1)\n",
    "gs_cvect_naive.fit(X_train, y_train)"
   ]
  },
  {
   "cell_type": "code",
   "execution_count": 21,
   "metadata": {},
   "outputs": [
    {
     "data": {
      "text/plain": [
       "0.96058061761776"
      ]
     },
     "execution_count": 21,
     "metadata": {},
     "output_type": "execute_result"
    }
   ],
   "source": [
    "gs_cvect_naive.score(X_train, y_train) #even less overfit!"
   ]
  },
  {
   "cell_type": "code",
   "execution_count": 22,
   "metadata": {},
   "outputs": [
    {
     "data": {
      "text/plain": [
       "0.8706510138740662"
      ]
     },
     "execution_count": 22,
     "metadata": {},
     "output_type": "execute_result"
    }
   ],
   "source": [
    "gs_cvect_naive.score(X_test, y_test) #highest score! fastest runtime! This will be our final model"
   ]
  },
  {
   "cell_type": "markdown",
   "metadata": {},
   "source": [
    "### Model with TfidfVectorizer and Naive Bayes"
   ]
  },
  {
   "cell_type": "code",
   "execution_count": 23,
   "metadata": {},
   "outputs": [
    {
     "data": {
      "text/plain": [
       "GridSearchCV(estimator=Pipeline(steps=[('tfidfvectorizer', TfidfVectorizer()),\n",
       "                                       ('multinomialnb', MultinomialNB())]),\n",
       "             n_jobs=-1,\n",
       "             param_grid={'multinomialnb__alpha': [0.01, 0.1, 1.0, 10.0],\n",
       "                         'tfidfvectorizer__ngram_range': [(1, 1), (1, 2),\n",
       "                                                          (1, 3)],\n",
       "                         'tfidfvectorizer__stop_words': ['english']})"
      ]
     },
     "execution_count": 23,
     "metadata": {},
     "output_type": "execute_result"
    }
   ],
   "source": [
    "pipe = make_pipeline(TfidfVectorizer(), MultinomialNB())\n",
    "\n",
    "params = {\n",
    "'tfidfvectorizer__ngram_range': [(1,1), (1,2), (1,3)],\n",
    "'tfidfvectorizer__stop_words': ['english'],\n",
    "'multinomialnb__alpha': [0.01, 0.1, 1.0, 10.0]\n",
    "}\n",
    "\n",
    "gs_tfidf_naive = GridSearchCV(pipe, params, n_jobs=-1)\n",
    "gs_tfidf_naive.fit(X_train, y_train)"
   ]
  },
  {
   "cell_type": "code",
   "execution_count": 24,
   "metadata": {},
   "outputs": [
    {
     "data": {
      "text/plain": [
       "0.9736018215454675"
      ]
     },
     "execution_count": 24,
     "metadata": {},
     "output_type": "execute_result"
    }
   ],
   "source": [
    "gs_tfidf_naive.score(X_train, y_train) #more overfit than cvect naive"
   ]
  },
  {
   "cell_type": "code",
   "execution_count": 25,
   "metadata": {},
   "outputs": [
    {
     "data": {
      "text/plain": [
       "0.8695837780149414"
      ]
     },
     "execution_count": 25,
     "metadata": {},
     "output_type": "execute_result"
    }
   ],
   "source": [
    "gs_tfidf_naive.score(X_test, y_test) #slightly worse score than cvect and more overfit,  we choose our cvect_naive model!"
   ]
  },
  {
   "cell_type": "code",
   "execution_count": 26,
   "metadata": {},
   "outputs": [],
   "source": [
    "# cvect_naive model has the highest score, is the least overfit, and runs the fastest. A model that gives us the best results in the shortest amount of time\n",
    "# is a model we want. This is my defense for using our  Naive Bayes model.\n",
    "\n",
    "#it is a bit overfit, which is a bit of a downfall, but sacrificing our overfit-ness for a lower score is not something I would approve.\n",
    "#I would much rather have a higher score on my test data with an overfit model than a lower score with a not so overfit model.\n",
    "#A score of 0.87... in subreddit prediction is excellent! Our titles are succesfull in predicting subreddits."
   ]
  },
  {
   "cell_type": "markdown",
   "metadata": {},
   "source": [
    "### Final Model: Cvect with Naive Bayes "
   ]
  },
  {
   "cell_type": "code",
   "execution_count": 27,
   "metadata": {},
   "outputs": [
    {
     "data": {
      "text/plain": [
       "{'countvectorizer__ngram_range': (1, 2),\n",
       " 'countvectorizer__stop_words': 'english',\n",
       " 'multinomialnb__alpha': 1.0}"
      ]
     },
     "execution_count": 27,
     "metadata": {},
     "output_type": "execute_result"
    }
   ],
   "source": [
    "gs_cvect_naive.best_params_ #best params for our cvect Naive Bayes model, let's run the same model for Wall Street Bets below"
   ]
  },
  {
   "cell_type": "code",
   "execution_count": 28,
   "metadata": {},
   "outputs": [
    {
     "data": {
      "image/png": "[encoded data removed]",
      "text/plain": [
       "<Figure size 432x288 with 1 Axes>"
      ]
     },
     "metadata": {
      "needs_background": "light"
     },
     "output_type": "display_data"
    }
   ],
   "source": [
    "metrics.plot_roc_curve(gs_cvect_naive, X_test, y_test);\n",
    "plt.plot(np.linspace(0, 1), np.linspace(0, 1))\n",
    "plt.title('ROC Curve')\n",
    "plt.ylabel('Sensitivity')\n",
    "plt.xlabel('Specificity'); #ROC Curve shows great performance"
   ]
  },
  {
   "cell_type": "code",
   "execution_count": 29,
   "metadata": {},
   "outputs": [
    {
     "data": {
      "text/plain": [
       "GridSearchCV(estimator=Pipeline(steps=[('countvectorizer', CountVectorizer()),\n",
       "                                       ('multinomialnb', MultinomialNB())]),\n",
       "             n_jobs=-1,\n",
       "             param_grid={'countvectorizer__ngram_range': [(1, 1), (1, 2),\n",
       "                                                          (1, 3)],\n",
       "                         'countvectorizer__stop_words': ['english'],\n",
       "                         'multinomialnb__alpha': [0.01, 0.1, 1.0, 10.0]})"
      ]
     },
     "execution_count": 29,
     "metadata": {},
     "output_type": "execute_result"
    }
   ],
   "source": [
    "X2 = subreddit_df['clean_title'] #lets score on our clean title \n",
    "y2 = subreddit_df['subreddit'] #our target\n",
    "y2 = y2.map({'Bitcoin': 0, 'wallstreetbets': 1}) #remap again\n",
    "\n",
    "X_train2, X_test2, y_train2, y_test2 = train_test_split(X2, y2, stratify = y2, random_state = 0)\n",
    "\n",
    "\n",
    "pipe_wsb = make_pipeline(CountVectorizer(), MultinomialNB())\n",
    "\n",
    "params = {\n",
    "'countvectorizer__ngram_range': [(1, 1), (1, 2), (1, 3)],\n",
    "'countvectorizer__stop_words': ['english'],\n",
    "'multinomialnb__alpha': [0.01, 0.1, 1.0, 10.0]\n",
    "}\n",
    "\n",
    "gs_cvect_naive_wsb = GridSearchCV(pipe_wsb, params, n_jobs=-1)\n",
    "gs_cvect_naive_wsb.fit(X_train2, y_train2)"
   ]
  },
  {
   "cell_type": "code",
   "execution_count": 30,
   "metadata": {},
   "outputs": [
    {
     "data": {
      "text/plain": [
       "0.9693325743560552"
      ]
     },
     "execution_count": 30,
     "metadata": {},
     "output_type": "execute_result"
    }
   ],
   "source": [
    "gs_cvect_naive_wsb.score(X_train2, y_train2)"
   ]
  },
  {
   "cell_type": "code",
   "execution_count": 31,
   "metadata": {},
   "outputs": [
    {
     "data": {
      "text/plain": [
       "0.8597652081109926"
      ]
     },
     "execution_count": 31,
     "metadata": {},
     "output_type": "execute_result"
    }
   ],
   "source": [
    "gs_cvect_naive_wsb.score(X_test2, y_test2)"
   ]
  },
  {
   "cell_type": "code",
   "execution_count": 32,
   "metadata": {},
   "outputs": [
    {
     "data": {
      "text/plain": [
       "{'countvectorizer__ngram_range': (1, 3),\n",
       " 'countvectorizer__stop_words': 'english',\n",
       " 'multinomialnb__alpha': 1.0}"
      ]
     },
     "execution_count": 32,
     "metadata": {},
     "output_type": "execute_result"
    }
   ],
   "source": [
    "gs_cvect_naive_wsb.best_params_ #we will use this data as well"
   ]
  },
  {
   "cell_type": "code",
   "execution_count": 33,
   "metadata": {},
   "outputs": [
    {
     "data": {
      "image/png": "[encoded data removed]",
      "text/plain": [
       "<Figure size 432x288 with 1 Axes>"
      ]
     },
     "metadata": {
      "needs_background": "light"
     },
     "output_type": "display_data"
    }
   ],
   "source": [
    "metrics.plot_roc_curve(gs_cvect_naive_wsb, X_test2, y_test2);\n",
    "plt.plot(np.linspace(0, 1), np.linspace(0, 1))\n",
    "plt.title('ROC Curve')\n",
    "plt.ylabel('Sensitivity')\n",
    "plt.xlabel('Specificity'); #ROC Curve shows great performance"
   ]
  },
  {
   "cell_type": "markdown",
   "metadata": {},
   "source": [
    "# Evaluation and Conceptual Understanding"
   ]
  },
  {
   "cell_type": "markdown",
   "metadata": {},
   "source": [
    "### Most Predictive r/bitcoin Words"
   ]
  },
  {
   "cell_type": "code",
   "execution_count": 34,
   "metadata": {},
   "outputs": [],
   "source": [
    "coefs = (gs_cvect_naive.best_estimator_.named_steps['multinomialnb'].coef_).T\n",
    "coefs = pd.DataFrame(coefs)\n",
    "coefs.columns = ['coef']\n",
    "\n",
    "coefs['words'] = gs_cvect_naive.best_estimator_.named_steps['countvectorizer'].get_feature_names()\n",
    "coefs = coefs.sort_values('coef', ascending = False)"
   ]
  },
  {
   "cell_type": "code",
   "execution_count": 35,
   "metadata": {},
   "outputs": [
    {
     "data": {
      "text/html": [
       "<div>\n",
       "<style scoped>\n",
       "    .dataframe tbody tr th:only-of-type {\n",
       "        vertical-align: middle;\n",
       "    }\n",
       "\n",
       "    .dataframe tbody tr th {\n",
       "        vertical-align: top;\n",
       "    }\n",
       "\n",
       "    .dataframe thead th {\n",
       "        text-align: right;\n",
       "    }\n",
       "</style>\n",
       "<table border=\"1\" class=\"dataframe\">\n",
       "  <thead>\n",
       "    <tr style=\"text-align: right;\">\n",
       "      <th></th>\n",
       "      <th>coef</th>\n",
       "      <th>words</th>\n",
       "    </tr>\n",
       "  </thead>\n",
       "  <tbody>\n",
       "    <tr>\n",
       "      <th>8043</th>\n",
       "      <td>-3.952265</td>\n",
       "      <td>bitcoin</td>\n",
       "    </tr>\n",
       "    <tr>\n",
       "      <th>10399</th>\n",
       "      <td>-5.374243</td>\n",
       "      <td>btc</td>\n",
       "    </tr>\n",
       "    <tr>\n",
       "      <th>15841</th>\n",
       "      <td>-5.493590</td>\n",
       "      <td>crypto</td>\n",
       "    </tr>\n",
       "    <tr>\n",
       "      <th>11084</th>\n",
       "      <td>-5.992167</td>\n",
       "      <td>buy</td>\n",
       "    </tr>\n",
       "    <tr>\n",
       "      <th>57860</th>\n",
       "      <td>-6.424066</td>\n",
       "      <td>wallet</td>\n",
       "    </tr>\n",
       "    <tr>\n",
       "      <th>18084</th>\n",
       "      <td>-6.455814</td>\n",
       "      <td>dip</td>\n",
       "    </tr>\n",
       "    <tr>\n",
       "      <th>37849</th>\n",
       "      <td>-6.479125</td>\n",
       "      <td>new</td>\n",
       "    </tr>\n",
       "    <tr>\n",
       "      <th>35854</th>\n",
       "      <td>-6.542407</td>\n",
       "      <td>mining</td>\n",
       "    </tr>\n",
       "    <tr>\n",
       "      <th>1305</th>\n",
       "      <td>-6.547445</td>\n",
       "      <td>2021</td>\n",
       "    </tr>\n",
       "    <tr>\n",
       "      <th>54110</th>\n",
       "      <td>-6.552508</td>\n",
       "      <td>time</td>\n",
       "    </tr>\n",
       "    <tr>\n",
       "      <th>13762</th>\n",
       "      <td>-6.583438</td>\n",
       "      <td>coinbase</td>\n",
       "    </tr>\n",
       "    <tr>\n",
       "      <th>13589</th>\n",
       "      <td>-6.593965</td>\n",
       "      <td>coin</td>\n",
       "    </tr>\n",
       "    <tr>\n",
       "      <th>34573</th>\n",
       "      <td>-6.609965</td>\n",
       "      <td>market</td>\n",
       "    </tr>\n",
       "    <tr>\n",
       "      <th>42530</th>\n",
       "      <td>-6.665228</td>\n",
       "      <td>price</td>\n",
       "    </tr>\n",
       "    <tr>\n",
       "      <th>36370</th>\n",
       "      <td>-6.670926</td>\n",
       "      <td>money</td>\n",
       "    </tr>\n",
       "    <tr>\n",
       "      <th>55174</th>\n",
       "      <td>-6.699913</td>\n",
       "      <td>transaction</td>\n",
       "    </tr>\n",
       "    <tr>\n",
       "      <th>32355</th>\n",
       "      <td>-6.711748</td>\n",
       "      <td>like</td>\n",
       "    </tr>\n",
       "    <tr>\n",
       "      <th>23070</th>\n",
       "      <td>-6.825076</td>\n",
       "      <td>free</td>\n",
       "    </tr>\n",
       "    <tr>\n",
       "      <th>26961</th>\n",
       "      <td>-6.825076</td>\n",
       "      <td>help</td>\n",
       "    </tr>\n",
       "    <tr>\n",
       "      <th>14</th>\n",
       "      <td>-6.831765</td>\n",
       "      <td>000</td>\n",
       "    </tr>\n",
       "  </tbody>\n",
       "</table>\n",
       "</div>"
      ],
      "text/plain": [
       "           coef        words\n",
       "8043  -3.952265      bitcoin\n",
       "10399 -5.374243          btc\n",
       "15841 -5.493590       crypto\n",
       "11084 -5.992167          buy\n",
       "57860 -6.424066       wallet\n",
       "18084 -6.455814          dip\n",
       "37849 -6.479125          new\n",
       "35854 -6.542407       mining\n",
       "1305  -6.547445         2021\n",
       "54110 -6.552508         time\n",
       "13762 -6.583438     coinbase\n",
       "13589 -6.593965         coin\n",
       "34573 -6.609965       market\n",
       "42530 -6.665228        price\n",
       "36370 -6.670926        money\n",
       "55174 -6.699913  transaction\n",
       "32355 -6.711748         like\n",
       "23070 -6.825076         free\n",
       "26961 -6.825076         help\n",
       "14    -6.831765          000"
      ]
     },
     "execution_count": 35,
     "metadata": {},
     "output_type": "execute_result"
    }
   ],
   "source": [
    "coefs.head(20) #quick look at top 20 words"
   ]
  },
  {
   "cell_type": "code",
   "execution_count": 36,
   "metadata": {},
   "outputs": [],
   "source": [
    "#bitcoin\n",
    "#btc is the abbreviation for bitcoin\n",
    "#crypto\n",
    "#dip (buy the dip! (in price))\n",
    "#wallet (hardware wallet to store bitcoin)\n",
    "#mining is bitcoin mining\n",
    "#coinbase is a crypto market/trading platform for bitcoin and other cryptocurrencies"
   ]
  },
  {
   "cell_type": "markdown",
   "metadata": {},
   "source": [
    "### Most Predictive r/wallstreetbets Words"
   ]
  },
  {
   "cell_type": "code",
   "execution_count": 37,
   "metadata": {},
   "outputs": [],
   "source": [
    "coefs2 = (gs_cvect_naive_wsb.best_estimator_.named_steps['multinomialnb'].coef_).T\n",
    "coefs2 = pd.DataFrame(coefs2)\n",
    "coefs2.columns = ['coef']\n",
    "\n",
    "coefs2['words'] = gs_cvect_naive_wsb.best_estimator_.named_steps['countvectorizer'].get_feature_names()\n",
    "coefs2 = coefs2.sort_values('coef', ascending = False)"
   ]
  },
  {
   "cell_type": "code",
   "execution_count": 38,
   "metadata": {},
   "outputs": [
    {
     "data": {
      "text/html": [
       "<div>\n",
       "<style scoped>\n",
       "    .dataframe tbody tr th:only-of-type {\n",
       "        vertical-align: middle;\n",
       "    }\n",
       "\n",
       "    .dataframe tbody tr th {\n",
       "        vertical-align: top;\n",
       "    }\n",
       "\n",
       "    .dataframe thead th {\n",
       "        text-align: right;\n",
       "    }\n",
       "</style>\n",
       "<table border=\"1\" class=\"dataframe\">\n",
       "  <thead>\n",
       "    <tr style=\"text-align: right;\">\n",
       "      <th></th>\n",
       "      <th>coef</th>\n",
       "      <th>words</th>\n",
       "    </tr>\n",
       "  </thead>\n",
       "  <tbody>\n",
       "    <tr>\n",
       "      <th>90565</th>\n",
       "      <td>-6.037630</td>\n",
       "      <td>stock</td>\n",
       "    </tr>\n",
       "    <tr>\n",
       "      <th>65982</th>\n",
       "      <td>-6.132519</td>\n",
       "      <td>mvis</td>\n",
       "    </tr>\n",
       "    <tr>\n",
       "      <th>43379</th>\n",
       "      <td>-6.153572</td>\n",
       "      <td>gme</td>\n",
       "    </tr>\n",
       "    <tr>\n",
       "      <th>65099</th>\n",
       "      <td>-6.222059</td>\n",
       "      <td>moon</td>\n",
       "    </tr>\n",
       "    <tr>\n",
       "      <th>86460</th>\n",
       "      <td>-6.348742</td>\n",
       "      <td>short</td>\n",
       "    </tr>\n",
       "    <tr>\n",
       "      <th>8702</th>\n",
       "      <td>-6.435753</td>\n",
       "      <td>ape</td>\n",
       "    </tr>\n",
       "    <tr>\n",
       "      <th>19913</th>\n",
       "      <td>-6.461152</td>\n",
       "      <td>buy</td>\n",
       "    </tr>\n",
       "    <tr>\n",
       "      <th>106719</th>\n",
       "      <td>-6.487212</td>\n",
       "      <td>yolo</td>\n",
       "    </tr>\n",
       "    <tr>\n",
       "      <th>7562</th>\n",
       "      <td>-6.703776</td>\n",
       "      <td>amc</td>\n",
       "    </tr>\n",
       "    <tr>\n",
       "      <th>67309</th>\n",
       "      <td>-6.789298</td>\n",
       "      <td>new</td>\n",
       "    </tr>\n",
       "    <tr>\n",
       "      <th>85791</th>\n",
       "      <td>-6.807317</td>\n",
       "      <td>share</td>\n",
       "    </tr>\n",
       "    <tr>\n",
       "      <th>56601</th>\n",
       "      <td>-6.821047</td>\n",
       "      <td>let</td>\n",
       "    </tr>\n",
       "    <tr>\n",
       "      <th>57302</th>\n",
       "      <td>-6.877935</td>\n",
       "      <td>like</td>\n",
       "    </tr>\n",
       "    <tr>\n",
       "      <th>30197</th>\n",
       "      <td>-6.943449</td>\n",
       "      <td>day</td>\n",
       "    </tr>\n",
       "    <tr>\n",
       "      <th>95820</th>\n",
       "      <td>-6.975198</td>\n",
       "      <td>time</td>\n",
       "    </tr>\n",
       "    <tr>\n",
       "      <th>61342</th>\n",
       "      <td>-7.024795</td>\n",
       "      <td>market</td>\n",
       "    </tr>\n",
       "    <tr>\n",
       "      <th>43935</th>\n",
       "      <td>-7.036159</td>\n",
       "      <td>going</td>\n",
       "    </tr>\n",
       "    <tr>\n",
       "      <th>96455</th>\n",
       "      <td>-7.041889</td>\n",
       "      <td>today</td>\n",
       "    </tr>\n",
       "    <tr>\n",
       "      <th>89491</th>\n",
       "      <td>-7.071046</td>\n",
       "      <td>squeeze</td>\n",
       "    </tr>\n",
       "    <tr>\n",
       "      <th>44498</th>\n",
       "      <td>-7.144699</td>\n",
       "      <td>good</td>\n",
       "    </tr>\n",
       "  </tbody>\n",
       "</table>\n",
       "</div>"
      ],
      "text/plain": [
       "            coef    words\n",
       "90565  -6.037630    stock\n",
       "65982  -6.132519     mvis\n",
       "43379  -6.153572      gme\n",
       "65099  -6.222059     moon\n",
       "86460  -6.348742    short\n",
       "8702   -6.435753      ape\n",
       "19913  -6.461152      buy\n",
       "106719 -6.487212     yolo\n",
       "7562   -6.703776      amc\n",
       "67309  -6.789298      new\n",
       "85791  -6.807317    share\n",
       "56601  -6.821047      let\n",
       "57302  -6.877935     like\n",
       "30197  -6.943449      day\n",
       "95820  -6.975198     time\n",
       "61342  -7.024795   market\n",
       "43935  -7.036159    going\n",
       "96455  -7.041889    today\n",
       "89491  -7.071046  squeeze\n",
       "44498  -7.144699     good"
      ]
     },
     "execution_count": 38,
     "metadata": {},
     "output_type": "execute_result"
    }
   ],
   "source": [
    "coefs2.head(20)"
   ]
  },
  {
   "cell_type": "code",
   "execution_count": 39,
   "metadata": {},
   "outputs": [],
   "source": [
    "#wsb is all about yoloing and making risky bets on stocks\n",
    "#mvis is a popular stock in wsb at the moment and redditors have been trying to pump it similarly like GME was pumped at the beginning of the year\n",
    "#wsb redditors frequently say '{stock name} to the moon!' with a bunch of emojis\n",
    "#wsb redditors call themselves apes with diamond hands\n",
    "#amc another popular stock, and gme is still popular as well"
   ]
  },
  {
   "cell_type": "markdown",
   "metadata": {},
   "source": [
    "### Confusion Matrix Analysis"
   ]
  },
  {
   "cell_type": "code",
   "execution_count": 40,
   "metadata": {},
   "outputs": [],
   "source": [
    "from sklearn.metrics import confusion_matrix, classification_report, accuracy_score, plot_confusion_matrix"
   ]
  },
  {
   "cell_type": "code",
   "execution_count": 41,
   "metadata": {},
   "outputs": [],
   "source": [
    "preds = gs_cvect_naive.predict(X_test)"
   ]
  },
  {
   "cell_type": "code",
   "execution_count": 42,
   "metadata": {},
   "outputs": [
    {
     "data": {
      "image/png": "[encoded data removed]",
      "text/plain": [
       "<Figure size 432x288 with 2 Axes>"
      ]
     },
     "metadata": {
      "needs_background": "light"
     },
     "output_type": "display_data"
    }
   ],
   "source": [
    "plot_confusion_matrix(gs_cvect_naive, X_test, y_test, cmap = 'Blues');"
   ]
  },
  {
   "cell_type": "code",
   "execution_count": 43,
   "metadata": {},
   "outputs": [
    {
     "name": "stdout",
     "output_type": "stream",
     "text": [
      "              precision    recall  f1-score   support\n",
      "\n",
      "           0     0.8827    0.8497    0.8659      2302\n",
      "           1     0.8599    0.8909    0.8751      2383\n",
      "\n",
      "    accuracy                         0.8707      4685\n",
      "   macro avg     0.8713    0.8703    0.8705      4685\n",
      "weighted avg     0.8711    0.8707    0.8706      4685\n",
      "\n"
     ]
    }
   ],
   "source": [
    "print(classification_report(y_test, preds, digits = 4)) #found this function here https://scikit-learn.org/stable/modules/generated/sklearn.metrics.classification_report.html"
   ]
  },
  {
   "cell_type": "code",
   "execution_count": 44,
   "metadata": {},
   "outputs": [],
   "source": [
    "#our scores are quite good\n",
    "#only 346 False Positive and 260 False Negatives\n",
    "#considering that these subreddits are not completley different, our scores are much better than .50, our baseline\n",
    "#our f1 score(accuracy) is quite good as well, we'll take it!"
   ]
  },
  {
   "cell_type": "code",
   "execution_count": 45,
   "metadata": {},
   "outputs": [
    {
     "data": {
      "image/png": "[encoded data removed]",
      "text/plain": [
       "<Figure size 432x288 with 2 Axes>"
      ]
     },
     "metadata": {
      "needs_background": "light"
     },
     "output_type": "display_data"
    }
   ],
   "source": [
    "plot_confusion_matrix(gs_cvect_naive_wsb, X_test2, y_test2, cmap = 'Reds');"
   ]
  },
  {
   "cell_type": "code",
   "execution_count": 46,
   "metadata": {},
   "outputs": [
    {
     "name": "stdout",
     "output_type": "stream",
     "text": [
      "              precision    recall  f1-score   support\n",
      "\n",
      "           0     0.8551    0.8720    0.8635      2383\n",
      "           1     0.8647    0.8471    0.8558      2302\n",
      "\n",
      "    accuracy                         0.8598      4685\n",
      "   macro avg     0.8599    0.8595    0.8597      4685\n",
      "weighted avg     0.8599    0.8598    0.8597      4685\n",
      "\n"
     ]
    }
   ],
   "source": [
    "preds2 = gs_cvect_naive_wsb.predict(X_test2)\n",
    "print(classification_report(y_test2, preds2, digits = 4))"
   ]
  },
  {
   "cell_type": "code",
   "execution_count": 47,
   "metadata": {},
   "outputs": [],
   "source": [
    "#our scores are quite good her as well\n",
    "#only 305 False Positive and 352 False Negatives\n",
    "#considering that these subreddits are not completley different, our scores are much better than .50, our baseline\n",
    "#our f1 score(accuracy) is quite good as well, we'll take it!"
   ]
  },
  {
   "cell_type": "markdown",
   "metadata": {},
   "source": [
    "### Usings Predicitons to find the most Predictive Titles associated with each Subreddit"
   ]
  },
  {
   "cell_type": "code",
   "execution_count": 48,
   "metadata": {},
   "outputs": [],
   "source": [
    "predictions = pd.DataFrame(gs_cvect_naive.predict_proba(X))"
   ]
  },
  {
   "cell_type": "code",
   "execution_count": 49,
   "metadata": {},
   "outputs": [],
   "source": [
    "predictions['clean_title'] = subreddit_df['clean_title']"
   ]
  },
  {
   "cell_type": "code",
   "execution_count": 50,
   "metadata": {},
   "outputs": [
    {
     "data": {
      "text/html": [
       "<div>\n",
       "<style scoped>\n",
       "    .dataframe tbody tr th:only-of-type {\n",
       "        vertical-align: middle;\n",
       "    }\n",
       "\n",
       "    .dataframe tbody tr th {\n",
       "        vertical-align: top;\n",
       "    }\n",
       "\n",
       "    .dataframe thead th {\n",
       "        text-align: right;\n",
       "    }\n",
       "</style>\n",
       "<table border=\"1\" class=\"dataframe\">\n",
       "  <thead>\n",
       "    <tr style=\"text-align: right;\">\n",
       "      <th></th>\n",
       "      <th>0</th>\n",
       "      <th>1</th>\n",
       "      <th>clean_title</th>\n",
       "    </tr>\n",
       "  </thead>\n",
       "  <tbody>\n",
       "    <tr>\n",
       "      <th>4293</th>\n",
       "      <td>1.065537e-16</td>\n",
       "      <td>1.0</td>\n",
       "      <td>bitcoin hoje binance coin vale pena comprar em...</td>\n",
       "    </tr>\n",
       "    <tr>\n",
       "      <th>6969</th>\n",
       "      <td>3.626290e-25</td>\n",
       "      <td>1.0</td>\n",
       "      <td>looking high reward defi gem cryptoswap financ...</td>\n",
       "    </tr>\n",
       "    <tr>\n",
       "      <th>8752</th>\n",
       "      <td>2.840480e-16</td>\n",
       "      <td>1.0</td>\n",
       "      <td>start mining crypto today best offer crypto mi...</td>\n",
       "    </tr>\n",
       "    <tr>\n",
       "      <th>7540</th>\n",
       "      <td>2.239572e-36</td>\n",
       "      <td>1.0</td>\n",
       "      <td>riot acquire whinstone creating u based indust...</td>\n",
       "    </tr>\n",
       "    <tr>\n",
       "      <th>6278</th>\n",
       "      <td>8.438369e-25</td>\n",
       "      <td>1.0</td>\n",
       "      <td>turkish central bank ban accepting crypto paym...</td>\n",
       "    </tr>\n",
       "    <tr>\n",
       "      <th>1692</th>\n",
       "      <td>2.696021e-15</td>\n",
       "      <td>1.0</td>\n",
       "      <td>bitcoin btc grafik bitcoin 24 nisan 21 mayıs a...</td>\n",
       "    </tr>\n",
       "    <tr>\n",
       "      <th>4771</th>\n",
       "      <td>2.515635e-19</td>\n",
       "      <td>1.0</td>\n",
       "      <td>checked bitcoin balance amount bitcoin still p...</td>\n",
       "    </tr>\n",
       "    <tr>\n",
       "      <th>296</th>\n",
       "      <td>2.458111e-17</td>\n",
       "      <td>1.0</td>\n",
       "      <td>usa skrill per inviare denaro ad amici parenti...</td>\n",
       "    </tr>\n",
       "    <tr>\n",
       "      <th>9214</th>\n",
       "      <td>2.465840e-16</td>\n",
       "      <td>1.0</td>\n",
       "      <td>multi billion dollar cache microstrategy purch...</td>\n",
       "    </tr>\n",
       "    <tr>\n",
       "      <th>4199</th>\n",
       "      <td>2.829753e-25</td>\n",
       "      <td>1.0</td>\n",
       "      <td>hi dear reedit today found google drive propab...</td>\n",
       "    </tr>\n",
       "    <tr>\n",
       "      <th>6273</th>\n",
       "      <td>8.080194e-17</td>\n",
       "      <td>1.0</td>\n",
       "      <td>auto repair crypto gosch bros auto pro brother...</td>\n",
       "    </tr>\n",
       "    <tr>\n",
       "      <th>5705</th>\n",
       "      <td>5.132919e-15</td>\n",
       "      <td>1.0</td>\n",
       "      <td>nigeria sec talk central bank nigeria crypto r...</td>\n",
       "    </tr>\n",
       "    <tr>\n",
       "      <th>5731</th>\n",
       "      <td>3.524073e-14</td>\n",
       "      <td>1.0</td>\n",
       "      <td>big seller hacker darkweb got valid dump pin c...</td>\n",
       "    </tr>\n",
       "    <tr>\n",
       "      <th>787</th>\n",
       "      <td>1.371737e-18</td>\n",
       "      <td>1.0</td>\n",
       "      <td>vericoin airdrop see photo http berrystore co ...</td>\n",
       "    </tr>\n",
       "    <tr>\n",
       "      <th>6467</th>\n",
       "      <td>1.146043e-15</td>\n",
       "      <td>1.0</td>\n",
       "      <td>$500 000 btc 2024 $100 000 btc end 2021 mike n...</td>\n",
       "    </tr>\n",
       "    <tr>\n",
       "      <th>1648</th>\n",
       "      <td>8.923994e-22</td>\n",
       "      <td>1.0</td>\n",
       "      <td>buy bitcoin might find helpful using lot diffe...</td>\n",
       "    </tr>\n",
       "    <tr>\n",
       "      <th>693</th>\n",
       "      <td>2.895547e-16</td>\n",
       "      <td>1.0</td>\n",
       "      <td>cloud mining website legit amp free doge btc t...</td>\n",
       "    </tr>\n",
       "    <tr>\n",
       "      <th>8774</th>\n",
       "      <td>3.504600e-15</td>\n",
       "      <td>1.0</td>\n",
       "      <td>dmg blockchain solution marathon digital minin...</td>\n",
       "    </tr>\n",
       "    <tr>\n",
       "      <th>2563</th>\n",
       "      <td>4.420913e-19</td>\n",
       "      <td>1.0</td>\n",
       "      <td>coin ironically see coinbase value dropping bi...</td>\n",
       "    </tr>\n",
       "    <tr>\n",
       "      <th>5737</th>\n",
       "      <td>6.685787e-26</td>\n",
       "      <td>1.0</td>\n",
       "      <td>thought quantum computing really totally disru...</td>\n",
       "    </tr>\n",
       "  </tbody>\n",
       "</table>\n",
       "</div>"
      ],
      "text/plain": [
       "                 0    1                                        clean_title\n",
       "4293  1.065537e-16  1.0  bitcoin hoje binance coin vale pena comprar em...\n",
       "6969  3.626290e-25  1.0  looking high reward defi gem cryptoswap financ...\n",
       "8752  2.840480e-16  1.0  start mining crypto today best offer crypto mi...\n",
       "7540  2.239572e-36  1.0  riot acquire whinstone creating u based indust...\n",
       "6278  8.438369e-25  1.0  turkish central bank ban accepting crypto paym...\n",
       "1692  2.696021e-15  1.0  bitcoin btc grafik bitcoin 24 nisan 21 mayıs a...\n",
       "4771  2.515635e-19  1.0  checked bitcoin balance amount bitcoin still p...\n",
       "296   2.458111e-17  1.0  usa skrill per inviare denaro ad amici parenti...\n",
       "9214  2.465840e-16  1.0  multi billion dollar cache microstrategy purch...\n",
       "4199  2.829753e-25  1.0  hi dear reedit today found google drive propab...\n",
       "6273  8.080194e-17  1.0  auto repair crypto gosch bros auto pro brother...\n",
       "5705  5.132919e-15  1.0  nigeria sec talk central bank nigeria crypto r...\n",
       "5731  3.524073e-14  1.0  big seller hacker darkweb got valid dump pin c...\n",
       "787   1.371737e-18  1.0  vericoin airdrop see photo http berrystore co ...\n",
       "6467  1.146043e-15  1.0  $500 000 btc 2024 $100 000 btc end 2021 mike n...\n",
       "1648  8.923994e-22  1.0  buy bitcoin might find helpful using lot diffe...\n",
       "693   2.895547e-16  1.0  cloud mining website legit amp free doge btc t...\n",
       "8774  3.504600e-15  1.0  dmg blockchain solution marathon digital minin...\n",
       "2563  4.420913e-19  1.0  coin ironically see coinbase value dropping bi...\n",
       "5737  6.685787e-26  1.0  thought quantum computing really totally disru..."
      ]
     },
     "execution_count": 50,
     "metadata": {},
     "output_type": "execute_result"
    }
   ],
   "source": [
    "predictions.sort_values(1, ascending = False)[:20] #titles most strongly predicting bitcoin"
   ]
  },
  {
   "cell_type": "code",
   "execution_count": 64,
   "metadata": {},
   "outputs": [
    {
     "data": {
      "text/html": [
       "<div>\n",
       "<style scoped>\n",
       "    .dataframe tbody tr th:only-of-type {\n",
       "        vertical-align: middle;\n",
       "    }\n",
       "\n",
       "    .dataframe tbody tr th {\n",
       "        vertical-align: top;\n",
       "    }\n",
       "\n",
       "    .dataframe thead th {\n",
       "        text-align: right;\n",
       "    }\n",
       "</style>\n",
       "<table border=\"1\" class=\"dataframe\">\n",
       "  <thead>\n",
       "    <tr style=\"text-align: right;\">\n",
       "      <th></th>\n",
       "      <th>0</th>\n",
       "      <th>1</th>\n",
       "      <th>clean_title</th>\n",
       "    </tr>\n",
       "  </thead>\n",
       "  <tbody>\n",
       "    <tr>\n",
       "      <th>11991</th>\n",
       "      <td>4.652840e-61</td>\n",
       "      <td>1.0</td>\n",
       "      <td>ocgn ocugen bharat biotech covaxin announcemen...</td>\n",
       "    </tr>\n",
       "    <tr>\n",
       "      <th>16975</th>\n",
       "      <td>6.521488e-19</td>\n",
       "      <td>1.0</td>\n",
       "      <td>amc 04 may 2021 shareholders' meeting let's op...</td>\n",
       "    </tr>\n",
       "    <tr>\n",
       "      <th>16978</th>\n",
       "      <td>4.161342e-23</td>\n",
       "      <td>1.0</td>\n",
       "      <td>holy fucking shit think figured launched yet p...</td>\n",
       "    </tr>\n",
       "    <tr>\n",
       "      <th>14657</th>\n",
       "      <td>4.987745e-35</td>\n",
       "      <td>1.0</td>\n",
       "      <td>long term biotech play 110 one day gain option...</td>\n",
       "    </tr>\n",
       "    <tr>\n",
       "      <th>11267</th>\n",
       "      <td>2.928718e-17</td>\n",
       "      <td>1.0</td>\n",
       "      <td>kdkgf ape buy gold low early temptation $5 k y...</td>\n",
       "    </tr>\n",
       "    <tr>\n",
       "      <th>16981</th>\n",
       "      <td>5.573709e-17</td>\n",
       "      <td>1.0</td>\n",
       "      <td>microvision finding proper valuation hint $17....</td>\n",
       "    </tr>\n",
       "    <tr>\n",
       "      <th>11264</th>\n",
       "      <td>3.965369e-20</td>\n",
       "      <td>1.0</td>\n",
       "      <td>since beginning gme trust think clov trap neve...</td>\n",
       "    </tr>\n",
       "    <tr>\n",
       "      <th>13872</th>\n",
       "      <td>1.252520e-19</td>\n",
       "      <td>1.0</td>\n",
       "      <td>anyone looking recaf potentially life changing...</td>\n",
       "    </tr>\n",
       "    <tr>\n",
       "      <th>18273</th>\n",
       "      <td>1.274085e-22</td>\n",
       "      <td>1.0</td>\n",
       "      <td>gmgi profitable online casino esports sportsbe...</td>\n",
       "    </tr>\n",
       "    <tr>\n",
       "      <th>11261</th>\n",
       "      <td>2.928718e-17</td>\n",
       "      <td>1.0</td>\n",
       "      <td>kdkgf ape buy gold low early temptation $5 k y...</td>\n",
       "    </tr>\n",
       "    <tr>\n",
       "      <th>16986</th>\n",
       "      <td>1.555192e-26</td>\n",
       "      <td>1.0</td>\n",
       "      <td>dog moon time get frog memetic pepe coin next ...</td>\n",
       "    </tr>\n",
       "    <tr>\n",
       "      <th>14665</th>\n",
       "      <td>7.090132e-16</td>\n",
       "      <td>1.0</td>\n",
       "      <td>danimer scientific dnmr esg play maker biodegr...</td>\n",
       "    </tr>\n",
       "    <tr>\n",
       "      <th>11254</th>\n",
       "      <td>1.530745e-20</td>\n",
       "      <td>1.0</td>\n",
       "      <td>broadband supremacy musk bezos fire shot broad...</td>\n",
       "    </tr>\n",
       "    <tr>\n",
       "      <th>15486</th>\n",
       "      <td>4.455315e-22</td>\n",
       "      <td>1.0</td>\n",
       "      <td>warning whoever dare bet wsb short sold 3 500 ...</td>\n",
       "    </tr>\n",
       "    <tr>\n",
       "      <th>9769</th>\n",
       "      <td>1.658109e-20</td>\n",
       "      <td>1.0</td>\n",
       "      <td>himx yolo lidar ar vr stock since mvis hope he...</td>\n",
       "    </tr>\n",
       "    <tr>\n",
       "      <th>15479</th>\n",
       "      <td>1.660979e-18</td>\n",
       "      <td>1.0</td>\n",
       "      <td>palantir win new contract uk crown commerical ...</td>\n",
       "    </tr>\n",
       "    <tr>\n",
       "      <th>9778</th>\n",
       "      <td>2.122912e-16</td>\n",
       "      <td>1.0</td>\n",
       "      <td>fucking dumb paper hand bitch fucking sold ear...</td>\n",
       "    </tr>\n",
       "    <tr>\n",
       "      <th>17017</th>\n",
       "      <td>3.910318e-17</td>\n",
       "      <td>1.0</td>\n",
       "      <td>guy messing everything good life everything gu...</td>\n",
       "    </tr>\n",
       "    <tr>\n",
       "      <th>13865</th>\n",
       "      <td>1.825773e-14</td>\n",
       "      <td>1.0</td>\n",
       "      <td>26 million actual public float thats including...</td>\n",
       "    </tr>\n",
       "    <tr>\n",
       "      <th>14675</th>\n",
       "      <td>1.480478e-28</td>\n",
       "      <td>1.0</td>\n",
       "      <td>government canada promised buy carbon offset $...</td>\n",
       "    </tr>\n",
       "  </tbody>\n",
       "</table>\n",
       "</div>"
      ],
      "text/plain": [
       "                  0    1                                        clean_title\n",
       "11991  4.652840e-61  1.0  ocgn ocugen bharat biotech covaxin announcemen...\n",
       "16975  6.521488e-19  1.0  amc 04 may 2021 shareholders' meeting let's op...\n",
       "16978  4.161342e-23  1.0  holy fucking shit think figured launched yet p...\n",
       "14657  4.987745e-35  1.0  long term biotech play 110 one day gain option...\n",
       "11267  2.928718e-17  1.0  kdkgf ape buy gold low early temptation $5 k y...\n",
       "16981  5.573709e-17  1.0  microvision finding proper valuation hint $17....\n",
       "11264  3.965369e-20  1.0  since beginning gme trust think clov trap neve...\n",
       "13872  1.252520e-19  1.0  anyone looking recaf potentially life changing...\n",
       "18273  1.274085e-22  1.0  gmgi profitable online casino esports sportsbe...\n",
       "11261  2.928718e-17  1.0  kdkgf ape buy gold low early temptation $5 k y...\n",
       "16986  1.555192e-26  1.0  dog moon time get frog memetic pepe coin next ...\n",
       "14665  7.090132e-16  1.0  danimer scientific dnmr esg play maker biodegr...\n",
       "11254  1.530745e-20  1.0  broadband supremacy musk bezos fire shot broad...\n",
       "15486  4.455315e-22  1.0  warning whoever dare bet wsb short sold 3 500 ...\n",
       "9769   1.658109e-20  1.0  himx yolo lidar ar vr stock since mvis hope he...\n",
       "15479  1.660979e-18  1.0  palantir win new contract uk crown commerical ...\n",
       "9778   2.122912e-16  1.0  fucking dumb paper hand bitch fucking sold ear...\n",
       "17017  3.910318e-17  1.0  guy messing everything good life everything gu...\n",
       "13865  1.825773e-14  1.0  26 million actual public float thats including...\n",
       "14675  1.480478e-28  1.0  government canada promised buy carbon offset $..."
      ]
     },
     "execution_count": 64,
     "metadata": {},
     "output_type": "execute_result"
    }
   ],
   "source": [
    "predictions2 = pd.DataFrame(gs_cvect_naive_wsb.predict_proba(X2))\n",
    "predictions2['clean_title'] = subreddit_df['clean_title']\n",
    "predictions2.sort_values(1, ascending = False)[:20] #titles most strongly predicting wallstreets"
   ]
  },
  {
   "cell_type": "markdown",
   "metadata": {},
   "source": [
    "# Conclusions and Recommendations"
   ]
  },
  {
   "cell_type": "markdown",
   "metadata": {},
   "source": [
    "### Steps for Project Completion"
   ]
  },
  {
   "cell_type": "markdown",
   "metadata": {},
   "source": [
    "1. We gathered/collected our data using api rquests and pushshift, and built a function to place that data into a dataframe.\n",
    "   We were interested in the subreddits r/bitcoin and r/wallstreetbets, two subreddits focused on investing.\n",
    "\n",
    "2. After Data collection, we cleaned our data by tokenizing/lemmatizing our titles, engineering some additional features, and removing null values.\n",
    "   With our new clean titles, I created some visualizion and conducted proper EDA to better understand the data collected for proper model analysis in the future\n",
    "\n",
    "3. Preproccesed our subreddit Data, train-test-split our X and y variables, and created models such as Logistic Regression and Naive Bayes, for scoring and   predicting both the Bitcoin and WallStreetBets Subreddits. Created visualizations of our modeled data and predictive variables, created a confusion matrix for analysis, analyszed coeficients and probabilites as well."
   ]
  },
  {
   "cell_type": "markdown",
   "metadata": {},
   "source": [
    "### Conclusions"
   ]
  },
  {
   "cell_type": "markdown",
   "metadata": {},
   "source": [
    "We can accuratley predict which subreddit a title is from with an accuracy over 85%, a great achievment.\n",
    "These subreddits are fairly similar, but with particular individual characteristics we are able to predict accurately.\n",
    "Through the process of cleaning our titles and predictive modeling, we did quite well.\n",
    "\n",
    "We notice that r/wallstreetbets has many keywords, such as GME, MVIS, AMC, yolo, ape, etc., these keywords on top of it's meme-y community act as a bit of a separation between r/bitcoin.\n",
    "r/bitcoin on the other hand is also an investing subreddit, but it's main focus is on bitcoin/btc rather than stocks, but also tends to quite meme-y. \n",
    "Another interesting point is that these subreddits frequently refer to eachother and their communities, with many subscribers that are part of both communities. \n",
    "\n",
    "r/bitcoin focus more on investing/studying bitcoin, r/wallstreetbets focuses more on yoloing risky stocks and posting about them for internet points. The things that bring them together are: investing, money, memes, and humor.\n",
    "\n",
    "If conducting a similar project with different subreddits, I would recommend gathering over 10,000 data entries and to clean the data very thoroughl. Use different modeling techniques as well to get the best accuracy possible."
   ]
  },
  {
   "cell_type": "markdown",
   "metadata": {},
   "source": [
    "### Further Research"
   ]
  },
  {
   "cell_type": "markdown",
   "metadata": {},
   "source": [
    "I believe I can generate even more accurate data if I were able to take every title from each subreddit since its inception efficiently. Currently I do not have the knowledge to do that quickly, and that would be very interesting to see the difference between that data and mine.\n",
    "\n",
    "In the future I would also recommend to try different types of models, possible some boosting/KNN/tree to see what types of results those models bring.\n",
    "It would also be interesting to try out some other vectorizers outside of CountVectorizer and TfdifVectorizer.\n",
    "\n",
    "Exploring different ways to Tokenize/Lematize/Clean the data I'm sure would yield different and intersting results as well. (i.e. spacy)"
   ]
  },
  {
   "cell_type": "code",
   "execution_count": 52,
   "metadata": {},
   "outputs": [],
   "source": [
    "#streamlit test"
   ]
  },
  {
   "cell_type": "code",
   "execution_count": 61,
   "metadata": {},
   "outputs": [],
   "source": [
    "X3 = subreddit_df['title']"
   ]
  },
  {
   "cell_type": "code",
   "execution_count": 65,
   "metadata": {},
   "outputs": [],
   "source": [
    "predictions3 = pd.DataFrame(gs_cvect_naive_wsb.predict_proba(X3))\n",
    "predictions3['title'] = subreddit_df['title']"
   ]
  },
  {
   "cell_type": "code",
   "execution_count": 66,
   "metadata": {},
   "outputs": [
    {
     "data": {
      "text/html": [
       "<div>\n",
       "<style scoped>\n",
       "    .dataframe tbody tr th:only-of-type {\n",
       "        vertical-align: middle;\n",
       "    }\n",
       "\n",
       "    .dataframe tbody tr th {\n",
       "        vertical-align: top;\n",
       "    }\n",
       "\n",
       "    .dataframe thead th {\n",
       "        text-align: right;\n",
       "    }\n",
       "</style>\n",
       "<table border=\"1\" class=\"dataframe\">\n",
       "  <thead>\n",
       "    <tr style=\"text-align: right;\">\n",
       "      <th></th>\n",
       "      <th>0</th>\n",
       "      <th>1</th>\n",
       "      <th>title</th>\n",
       "    </tr>\n",
       "  </thead>\n",
       "  <tbody>\n",
       "    <tr>\n",
       "      <th>0</th>\n",
       "      <td>9.930970e-01</td>\n",
       "      <td>6.903030e-03</td>\n",
       "      <td>Keep being impressed by the S2FX model by Plan...</td>\n",
       "    </tr>\n",
       "    <tr>\n",
       "      <th>1</th>\n",
       "      <td>9.973852e-01</td>\n",
       "      <td>2.614832e-03</td>\n",
       "      <td>Perhaps someone will be able to support the fa...</td>\n",
       "    </tr>\n",
       "    <tr>\n",
       "      <th>2</th>\n",
       "      <td>6.580425e-01</td>\n",
       "      <td>3.419575e-01</td>\n",
       "      <td>Bears to the gulag!</td>\n",
       "    </tr>\n",
       "    <tr>\n",
       "      <th>3</th>\n",
       "      <td>5.015037e-01</td>\n",
       "      <td>4.984963e-01</td>\n",
       "      <td>Can we have honest discussion about side effec...</td>\n",
       "    </tr>\n",
       "    <tr>\n",
       "      <th>4</th>\n",
       "      <td>1.000000e+00</td>\n",
       "      <td>1.761621e-11</td>\n",
       "      <td>Active nfl player going to convert full salary...</td>\n",
       "    </tr>\n",
       "    <tr>\n",
       "      <th>...</th>\n",
       "      <td>...</td>\n",
       "      <td>...</td>\n",
       "      <td>...</td>\n",
       "    </tr>\n",
       "    <tr>\n",
       "      <th>18734</th>\n",
       "      <td>2.846016e-06</td>\n",
       "      <td>9.999972e-01</td>\n",
       "      <td>SNDL to the moon 🚀🚀🚀🚀🚀🚀 yolo!!</td>\n",
       "    </tr>\n",
       "    <tr>\n",
       "      <th>18735</th>\n",
       "      <td>1.058864e-09</td>\n",
       "      <td>1.000000e+00</td>\n",
       "      <td>I sent a gift to Ken Griffin at Citadel from A...</td>\n",
       "    </tr>\n",
       "    <tr>\n",
       "      <th>18736</th>\n",
       "      <td>9.419574e-02</td>\n",
       "      <td>9.058043e-01</td>\n",
       "      <td>Ay bawse</td>\n",
       "    </tr>\n",
       "    <tr>\n",
       "      <th>18737</th>\n",
       "      <td>9.652730e-05</td>\n",
       "      <td>9.999035e-01</td>\n",
       "      <td>GME/WSB Hype Vid (Haven't personally seen one ...</td>\n",
       "    </tr>\n",
       "    <tr>\n",
       "      <th>18738</th>\n",
       "      <td>1.048738e-01</td>\n",
       "      <td>8.951262e-01</td>\n",
       "      <td>Apes! Together, strong</td>\n",
       "    </tr>\n",
       "  </tbody>\n",
       "</table>\n",
       "<p>18739 rows × 3 columns</p>\n",
       "</div>"
      ],
      "text/plain": [
       "                  0             1  \\\n",
       "0      9.930970e-01  6.903030e-03   \n",
       "1      9.973852e-01  2.614832e-03   \n",
       "2      6.580425e-01  3.419575e-01   \n",
       "3      5.015037e-01  4.984963e-01   \n",
       "4      1.000000e+00  1.761621e-11   \n",
       "...             ...           ...   \n",
       "18734  2.846016e-06  9.999972e-01   \n",
       "18735  1.058864e-09  1.000000e+00   \n",
       "18736  9.419574e-02  9.058043e-01   \n",
       "18737  9.652730e-05  9.999035e-01   \n",
       "18738  1.048738e-01  8.951262e-01   \n",
       "\n",
       "                                                   title  \n",
       "0      Keep being impressed by the S2FX model by Plan...  \n",
       "1      Perhaps someone will be able to support the fa...  \n",
       "2                                    Bears to the gulag!  \n",
       "3      Can we have honest discussion about side effec...  \n",
       "4      Active nfl player going to convert full salary...  \n",
       "...                                                  ...  \n",
       "18734                     SNDL to the moon 🚀🚀🚀🚀🚀🚀 yolo!!  \n",
       "18735  I sent a gift to Ken Griffin at Citadel from A...  \n",
       "18736                                           Ay bawse  \n",
       "18737  GME/WSB Hype Vid (Haven't personally seen one ...  \n",
       "18738                             Apes! Together, strong  \n",
       "\n",
       "[18739 rows x 3 columns]"
      ]
     },
     "execution_count": 66,
     "metadata": {},
     "output_type": "execute_result"
    }
   ],
   "source": [
    "predictions3"
   ]
  },
  {
   "cell_type": "code",
   "execution_count": 67,
   "metadata": {},
   "outputs": [],
   "source": [
    "predictions3.to_csv('../data/predictions3.csv', index = False)"
   ]
  },
  {
   "cell_type": "code",
   "execution_count": 68,
   "metadata": {},
   "outputs": [],
   "source": [
    "predictions3 = pd.read_csv('../data/predictions3.csv') #read in clean data"
   ]
  },
  {
   "cell_type": "code",
   "execution_count": 69,
   "metadata": {},
   "outputs": [
    {
     "data": {
      "text/html": [
       "<div>\n",
       "<style scoped>\n",
       "    .dataframe tbody tr th:only-of-type {\n",
       "        vertical-align: middle;\n",
       "    }\n",
       "\n",
       "    .dataframe tbody tr th {\n",
       "        vertical-align: top;\n",
       "    }\n",
       "\n",
       "    .dataframe thead th {\n",
       "        text-align: right;\n",
       "    }\n",
       "</style>\n",
       "<table border=\"1\" class=\"dataframe\">\n",
       "  <thead>\n",
       "    <tr style=\"text-align: right;\">\n",
       "      <th></th>\n",
       "      <th>0</th>\n",
       "      <th>1</th>\n",
       "      <th>title</th>\n",
       "    </tr>\n",
       "  </thead>\n",
       "  <tbody>\n",
       "    <tr>\n",
       "      <th>0</th>\n",
       "      <td>9.930970e-01</td>\n",
       "      <td>6.903030e-03</td>\n",
       "      <td>Keep being impressed by the S2FX model by Plan...</td>\n",
       "    </tr>\n",
       "    <tr>\n",
       "      <th>1</th>\n",
       "      <td>9.973852e-01</td>\n",
       "      <td>2.614832e-03</td>\n",
       "      <td>Perhaps someone will be able to support the fa...</td>\n",
       "    </tr>\n",
       "    <tr>\n",
       "      <th>2</th>\n",
       "      <td>6.580425e-01</td>\n",
       "      <td>3.419575e-01</td>\n",
       "      <td>Bears to the gulag!</td>\n",
       "    </tr>\n",
       "    <tr>\n",
       "      <th>3</th>\n",
       "      <td>5.015037e-01</td>\n",
       "      <td>4.984963e-01</td>\n",
       "      <td>Can we have honest discussion about side effec...</td>\n",
       "    </tr>\n",
       "    <tr>\n",
       "      <th>4</th>\n",
       "      <td>1.000000e+00</td>\n",
       "      <td>1.761621e-11</td>\n",
       "      <td>Active nfl player going to convert full salary...</td>\n",
       "    </tr>\n",
       "    <tr>\n",
       "      <th>...</th>\n",
       "      <td>...</td>\n",
       "      <td>...</td>\n",
       "      <td>...</td>\n",
       "    </tr>\n",
       "    <tr>\n",
       "      <th>18734</th>\n",
       "      <td>2.846016e-06</td>\n",
       "      <td>9.999972e-01</td>\n",
       "      <td>SNDL to the moon 🚀🚀🚀🚀🚀🚀 yolo!!</td>\n",
       "    </tr>\n",
       "    <tr>\n",
       "      <th>18735</th>\n",
       "      <td>1.058864e-09</td>\n",
       "      <td>1.000000e+00</td>\n",
       "      <td>I sent a gift to Ken Griffin at Citadel from A...</td>\n",
       "    </tr>\n",
       "    <tr>\n",
       "      <th>18736</th>\n",
       "      <td>9.419574e-02</td>\n",
       "      <td>9.058043e-01</td>\n",
       "      <td>Ay bawse</td>\n",
       "    </tr>\n",
       "    <tr>\n",
       "      <th>18737</th>\n",
       "      <td>9.652730e-05</td>\n",
       "      <td>9.999035e-01</td>\n",
       "      <td>GME/WSB Hype Vid (Haven't personally seen one ...</td>\n",
       "    </tr>\n",
       "    <tr>\n",
       "      <th>18738</th>\n",
       "      <td>1.048738e-01</td>\n",
       "      <td>8.951262e-01</td>\n",
       "      <td>Apes! Together, strong</td>\n",
       "    </tr>\n",
       "  </tbody>\n",
       "</table>\n",
       "<p>18739 rows × 3 columns</p>\n",
       "</div>"
      ],
      "text/plain": [
       "                  0             1  \\\n",
       "0      9.930970e-01  6.903030e-03   \n",
       "1      9.973852e-01  2.614832e-03   \n",
       "2      6.580425e-01  3.419575e-01   \n",
       "3      5.015037e-01  4.984963e-01   \n",
       "4      1.000000e+00  1.761621e-11   \n",
       "...             ...           ...   \n",
       "18734  2.846016e-06  9.999972e-01   \n",
       "18735  1.058864e-09  1.000000e+00   \n",
       "18736  9.419574e-02  9.058043e-01   \n",
       "18737  9.652730e-05  9.999035e-01   \n",
       "18738  1.048738e-01  8.951262e-01   \n",
       "\n",
       "                                                   title  \n",
       "0      Keep being impressed by the S2FX model by Plan...  \n",
       "1      Perhaps someone will be able to support the fa...  \n",
       "2                                    Bears to the gulag!  \n",
       "3      Can we have honest discussion about side effec...  \n",
       "4      Active nfl player going to convert full salary...  \n",
       "...                                                  ...  \n",
       "18734                     SNDL to the moon 🚀🚀🚀🚀🚀🚀 yolo!!  \n",
       "18735  I sent a gift to Ken Griffin at Citadel from A...  \n",
       "18736                                           Ay bawse  \n",
       "18737  GME/WSB Hype Vid (Haven't personally seen one ...  \n",
       "18738                             Apes! Together, strong  \n",
       "\n",
       "[18739 rows x 3 columns]"
      ]
     },
     "execution_count": 69,
     "metadata": {},
     "output_type": "execute_result"
    }
   ],
   "source": [
    "predictions3"
   ]
  }
 ],
 "metadata": {
  "kernelspec": {
   "display_name": "Python 3",
   "language": "python",
   "name": "python3"
  },
  "language_info": {
   "codemirror_mode": {
    "name": "ipython",
    "version": 3
   },
   "file_extension": ".py",
   "mimetype": "text/x-python",
   "name": "python",
   "nbconvert_exporter": "python",
   "pygments_lexer": "ipython3",
   "version": "3.8.5"
  }
 },
 "nbformat": 4,
 "nbformat_minor": 4
}
