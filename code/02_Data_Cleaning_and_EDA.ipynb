{
 "cells": [
  {
   "cell_type": "markdown",
   "metadata": {},
   "source": [
    "# Data Cleaning and EDA"
   ]
  },
  {
   "cell_type": "code",
   "execution_count": 1,
   "metadata": {},
   "outputs": [],
   "source": [
    "import matplotlib.pyplot as plt #imports\n",
    "import numpy as np\n",
    "import pandas as pd\n",
    "import seaborn as sns\n",
    "import warnings\n",
    "from sklearn.feature_extraction.text import CountVectorizer, TfidfVectorizer"
   ]
  },
  {
   "cell_type": "code",
   "execution_count": 2,
   "metadata": {},
   "outputs": [],
   "source": [
    "warnings.filterwarnings('ignore')"
   ]
  },
  {
   "cell_type": "code",
   "execution_count": 3,
   "metadata": {},
   "outputs": [],
   "source": [
    "subreddit_df = pd.read_csv('../data/compiled_subreddit_data.csv') #read in data"
   ]
  },
  {
   "cell_type": "markdown",
   "metadata": {},
   "source": [
    "### Feature Engineering"
   ]
  },
  {
   "cell_type": "code",
   "execution_count": 4,
   "metadata": {},
   "outputs": [],
   "source": [
    "subreddit_df = subreddit_df[['subreddit', 'title', 'author']] #we are only really interested in predicting the subreddit based on the title"
   ]
  },
  {
   "cell_type": "code",
   "execution_count": 5,
   "metadata": {},
   "outputs": [],
   "source": [
    "subreddit_df['title_length'] = [len(i) for i in subreddit_df['title']] #length of each title by characters"
   ]
  },
  {
   "cell_type": "code",
   "execution_count": 6,
   "metadata": {},
   "outputs": [],
   "source": [
    "subreddit_df['title_word_count'] = [len(i.split()) for i in subreddit_df['title']] #length of each title by word count"
   ]
  },
  {
   "cell_type": "code",
   "execution_count": 7,
   "metadata": {},
   "outputs": [],
   "source": [
    "subreddit_df = subreddit_df[subreddit_df['title_word_count'] >= 2] #titles that are only one word long we drop, hard to guess much from a one word title, will improve ourr esults"
   ]
  },
  {
   "cell_type": "code",
   "execution_count": 8,
   "metadata": {},
   "outputs": [
    {
     "data": {
      "text/plain": [
       "subreddit           0\n",
       "title               0\n",
       "author              0\n",
       "title_length        0\n",
       "title_word_count    0\n",
       "dtype: int64"
      ]
     },
     "execution_count": 8,
     "metadata": {},
     "output_type": "execute_result"
    }
   ],
   "source": [
    "subreddit_df.isna().sum() #no null values yet, nothing to drop"
   ]
  },
  {
   "cell_type": "code",
   "execution_count": 9,
   "metadata": {},
   "outputs": [],
   "source": [
    "subreddit_df['title'].drop_duplicates(inplace = True) # drop duplicate titles"
   ]
  },
  {
   "cell_type": "code",
   "execution_count": 10,
   "metadata": {},
   "outputs": [
    {
     "data": {
      "text/plain": [
       "Bitcoin           9542\n",
       "wallstreetbets    9235\n",
       "Name: subreddit, dtype: int64"
      ]
     },
     "execution_count": 10,
     "metadata": {},
     "output_type": "execute_result"
    }
   ],
   "source": [
    "subreddit_df['subreddit'].value_counts() #fairly close distriution"
   ]
  },
  {
   "cell_type": "code",
   "execution_count": 11,
   "metadata": {},
   "outputs": [
    {
     "data": {
      "text/plain": [
       "<AxesSubplot:title={'center':'Subreddit Distribution'}, xlabel='subreddit', ylabel='Count'>"
      ]
     },
     "execution_count": 11,
     "metadata": {},
     "output_type": "execute_result"
    },
    {
     "data": {
      "image/png": "[encoded data removed]",
      "text/plain": [
       "<Figure size 720x576 with 1 Axes>"
      ]
     },
     "metadata": {
      "needs_background": "light"
     },
     "output_type": "display_data"
    }
   ],
   "source": [
    "plt.figure(figsize= (10,8))\n",
    "plt.title('Subreddit Distribution')\n",
    "sns.histplot(x = 'subreddit', data = subreddit_df, hue = 'subreddit')"
   ]
  },
  {
   "cell_type": "markdown",
   "metadata": {},
   "source": [
    "### Lematizing/Tokenizing our Titles"
   ]
  },
  {
   "cell_type": "code",
   "execution_count": 12,
   "metadata": {},
   "outputs": [],
   "source": [
    "from nltk.stem import WordNetLemmatizer #let us clean and lemmatize/tokenize our titles\n",
    "from nltk.stem import PorterStemmer\n",
    "from nltk.tokenize import sent_tokenize, word_tokenize, RegexpTokenizer\n",
    "from nltk.corpus import stopwords #imports"
   ]
  },
  {
   "cell_type": "code",
   "execution_count": 13,
   "metadata": {},
   "outputs": [],
   "source": [
    "def clean_rev(title): #tokenizer function covered by Eric Bayless \n",
    "    my_tokenizer = RegexpTokenizer(\"[\\w']+|\\$[\\d\\.]+\") \n",
    "    \n",
    "    words = my_tokenizer.tokenize(title.lower())\n",
    "    return words"
   ]
  },
  {
   "cell_type": "code",
   "execution_count": 14,
   "metadata": {},
   "outputs": [
    {
     "data": {
      "text/plain": [
       "['can',\n",
       " 'we',\n",
       " 'have',\n",
       " 'honest',\n",
       " 'discussion',\n",
       " 'about',\n",
       " 'side',\n",
       " 'effects',\n",
       " 'which',\n",
       " 'are']"
      ]
     },
     "execution_count": 14,
     "metadata": {},
     "output_type": "execute_result"
    }
   ],
   "source": [
    "clean_rev(subreddit_df['title'][3])[:10]"
   ]
  },
  {
   "cell_type": "code",
   "execution_count": 15,
   "metadata": {},
   "outputs": [],
   "source": [
    "def cleaner_rev(title): #covered with Eric Bayless during brunch hour\n",
    "    my_tokenizer = RegexpTokenizer(\"[\\w']+|\\$[\\d\\.]+\")\n",
    "    lemmatizer = WordNetLemmatizer()\n",
    "    \n",
    "    words = my_tokenizer.tokenize(title.lower())\n",
    "    \n",
    "    stop_word_list = stopwords.words('english')\n",
    "    no_stops = [i for i in words if i not in stop_word_list]\n",
    "    \n",
    "    title_lem = [lemmatizer.lemmatize(i) for i in no_stops]\n",
    "    return \" \".join(title_lem)"
   ]
  },
  {
   "cell_type": "code",
   "execution_count": 16,
   "metadata": {},
   "outputs": [
    {
     "data": {
      "text/plain": [
       "'keep impressed s2fx model planb well predicts everything'"
      ]
     },
     "execution_count": 16,
     "metadata": {},
     "output_type": "execute_result"
    }
   ],
   "source": [
    "cleaner_rev(subreddit_df['title'][0])"
   ]
  },
  {
   "cell_type": "code",
   "execution_count": 17,
   "metadata": {},
   "outputs": [],
   "source": [
    "subreddit_df['clean_title'] = subreddit_df['title'].map(cleaner_rev) \n",
    "#we make all the titles lowercase, strip formatting, remove emojis, lemmatize and tokenize"
   ]
  },
  {
   "cell_type": "code",
   "execution_count": 18,
   "metadata": {},
   "outputs": [
    {
     "name": "stdout",
     "output_type": "stream",
     "text": [
      "<class 'pandas.core.frame.DataFrame'>\n",
      "Int64Index: 18777 entries, 0 to 19999\n",
      "Data columns (total 6 columns):\n",
      " #   Column            Non-Null Count  Dtype \n",
      "---  ------            --------------  ----- \n",
      " 0   subreddit         18777 non-null  object\n",
      " 1   title             18777 non-null  object\n",
      " 2   author            18777 non-null  object\n",
      " 3   title_length      18777 non-null  int64 \n",
      " 4   title_word_count  18777 non-null  int64 \n",
      " 5   clean_title       18777 non-null  object\n",
      "dtypes: int64(2), object(4)\n",
      "memory usage: 1.6+ MB\n"
     ]
    }
   ],
   "source": [
    "subreddit_df.info()"
   ]
  },
  {
   "cell_type": "code",
   "execution_count": 19,
   "metadata": {},
   "outputs": [
    {
     "data": {
      "text/html": [
       "<div>\n",
       "<style scoped>\n",
       "    .dataframe tbody tr th:only-of-type {\n",
       "        vertical-align: middle;\n",
       "    }\n",
       "\n",
       "    .dataframe tbody tr th {\n",
       "        vertical-align: top;\n",
       "    }\n",
       "\n",
       "    .dataframe thead th {\n",
       "        text-align: right;\n",
       "    }\n",
       "</style>\n",
       "<table border=\"1\" class=\"dataframe\">\n",
       "  <thead>\n",
       "    <tr style=\"text-align: right;\">\n",
       "      <th></th>\n",
       "      <th>title_length</th>\n",
       "      <th>title_word_count</th>\n",
       "    </tr>\n",
       "  </thead>\n",
       "  <tbody>\n",
       "    <tr>\n",
       "      <th>count</th>\n",
       "      <td>18777.000000</td>\n",
       "      <td>18777.000000</td>\n",
       "    </tr>\n",
       "    <tr>\n",
       "      <th>mean</th>\n",
       "      <td>56.033818</td>\n",
       "      <td>9.977206</td>\n",
       "    </tr>\n",
       "    <tr>\n",
       "      <th>std</th>\n",
       "      <td>47.296418</td>\n",
       "      <td>8.408377</td>\n",
       "    </tr>\n",
       "    <tr>\n",
       "      <th>min</th>\n",
       "      <td>3.000000</td>\n",
       "      <td>2.000000</td>\n",
       "    </tr>\n",
       "    <tr>\n",
       "      <th>25%</th>\n",
       "      <td>25.000000</td>\n",
       "      <td>4.000000</td>\n",
       "    </tr>\n",
       "    <tr>\n",
       "      <th>50%</th>\n",
       "      <td>42.000000</td>\n",
       "      <td>8.000000</td>\n",
       "    </tr>\n",
       "    <tr>\n",
       "      <th>75%</th>\n",
       "      <td>70.000000</td>\n",
       "      <td>12.000000</td>\n",
       "    </tr>\n",
       "    <tr>\n",
       "      <th>max</th>\n",
       "      <td>308.000000</td>\n",
       "      <td>66.000000</td>\n",
       "    </tr>\n",
       "  </tbody>\n",
       "</table>\n",
       "</div>"
      ],
      "text/plain": [
       "       title_length  title_word_count\n",
       "count  18777.000000      18777.000000\n",
       "mean      56.033818          9.977206\n",
       "std       47.296418          8.408377\n",
       "min        3.000000          2.000000\n",
       "25%       25.000000          4.000000\n",
       "50%       42.000000          8.000000\n",
       "75%       70.000000         12.000000\n",
       "max      308.000000         66.000000"
      ]
     },
     "execution_count": 19,
     "metadata": {},
     "output_type": "execute_result"
    }
   ],
   "source": [
    "subreddit_df.describe()"
   ]
  },
  {
   "cell_type": "code",
   "execution_count": 20,
   "metadata": {},
   "outputs": [],
   "source": [
    "subreddit_df.to_csv('../data/clean_data.csv', index = False) #save our clean titles to data folder"
   ]
  },
  {
   "cell_type": "code",
   "execution_count": 21,
   "metadata": {},
   "outputs": [
    {
     "data": {
      "text/html": [
       "<div>\n",
       "<style scoped>\n",
       "    .dataframe tbody tr th:only-of-type {\n",
       "        vertical-align: middle;\n",
       "    }\n",
       "\n",
       "    .dataframe tbody tr th {\n",
       "        vertical-align: top;\n",
       "    }\n",
       "\n",
       "    .dataframe thead th {\n",
       "        text-align: right;\n",
       "    }\n",
       "</style>\n",
       "<table border=\"1\" class=\"dataframe\">\n",
       "  <thead>\n",
       "    <tr style=\"text-align: right;\">\n",
       "      <th></th>\n",
       "      <th>subreddit</th>\n",
       "      <th>title</th>\n",
       "      <th>author</th>\n",
       "      <th>title_length</th>\n",
       "      <th>title_word_count</th>\n",
       "      <th>clean_title</th>\n",
       "    </tr>\n",
       "  </thead>\n",
       "  <tbody>\n",
       "    <tr>\n",
       "      <th>0</th>\n",
       "      <td>Bitcoin</td>\n",
       "      <td>Keep being impressed by the S2FX model by Plan...</td>\n",
       "      <td>Scream1e</td>\n",
       "      <td>83</td>\n",
       "      <td>15</td>\n",
       "      <td>keep impressed s2fx model planb well predicts ...</td>\n",
       "    </tr>\n",
       "    <tr>\n",
       "      <th>1</th>\n",
       "      <td>Bitcoin</td>\n",
       "      <td>Perhaps someone will be able to support the fa...</td>\n",
       "      <td>bel-svoboda</td>\n",
       "      <td>76</td>\n",
       "      <td>14</td>\n",
       "      <td>perhaps someone able support family political ...</td>\n",
       "    </tr>\n",
       "    <tr>\n",
       "      <th>2</th>\n",
       "      <td>Bitcoin</td>\n",
       "      <td>Bears to the gulag!</td>\n",
       "      <td>heist95</td>\n",
       "      <td>19</td>\n",
       "      <td>4</td>\n",
       "      <td>bear gulag</td>\n",
       "    </tr>\n",
       "    <tr>\n",
       "      <th>3</th>\n",
       "      <td>Bitcoin</td>\n",
       "      <td>Can we have honest discussion about side effec...</td>\n",
       "      <td>Manic_Miner2</td>\n",
       "      <td>79</td>\n",
       "      <td>13</td>\n",
       "      <td>honest discussion side effect always positive</td>\n",
       "    </tr>\n",
       "    <tr>\n",
       "      <th>4</th>\n",
       "      <td>Bitcoin</td>\n",
       "      <td>Active nfl player going to convert full salary...</td>\n",
       "      <td>Crafty_Supermarket15</td>\n",
       "      <td>57</td>\n",
       "      <td>10</td>\n",
       "      <td>active nfl player going convert full salary bi...</td>\n",
       "    </tr>\n",
       "    <tr>\n",
       "      <th>...</th>\n",
       "      <td>...</td>\n",
       "      <td>...</td>\n",
       "      <td>...</td>\n",
       "      <td>...</td>\n",
       "      <td>...</td>\n",
       "      <td>...</td>\n",
       "    </tr>\n",
       "    <tr>\n",
       "      <th>18772</th>\n",
       "      <td>wallstreetbets</td>\n",
       "      <td>SNDL to the moon 🚀🚀🚀🚀🚀🚀 yolo!!</td>\n",
       "      <td>fk232323</td>\n",
       "      <td>30</td>\n",
       "      <td>6</td>\n",
       "      <td>sndl moon yolo</td>\n",
       "    </tr>\n",
       "    <tr>\n",
       "      <th>18773</th>\n",
       "      <td>wallstreetbets</td>\n",
       "      <td>I sent a gift to Ken Griffin at Citadel from A...</td>\n",
       "      <td>StockWizard_</td>\n",
       "      <td>119</td>\n",
       "      <td>21</td>\n",
       "      <td>sent gift ken griffin citadel amazon com guide...</td>\n",
       "    </tr>\n",
       "    <tr>\n",
       "      <th>18774</th>\n",
       "      <td>wallstreetbets</td>\n",
       "      <td>Ay bawse</td>\n",
       "      <td>z00tsuitnboogie</td>\n",
       "      <td>8</td>\n",
       "      <td>2</td>\n",
       "      <td>ay bawse</td>\n",
       "    </tr>\n",
       "    <tr>\n",
       "      <th>18775</th>\n",
       "      <td>wallstreetbets</td>\n",
       "      <td>GME/WSB Hype Vid (Haven't personally seen one ...</td>\n",
       "      <td>DistinguishedJB</td>\n",
       "      <td>90</td>\n",
       "      <td>18</td>\n",
       "      <td>gme wsb hype vid personally seen one week two ...</td>\n",
       "    </tr>\n",
       "    <tr>\n",
       "      <th>18776</th>\n",
       "      <td>wallstreetbets</td>\n",
       "      <td>Apes! Together, strong</td>\n",
       "      <td>NewAgePhilosophr</td>\n",
       "      <td>22</td>\n",
       "      <td>3</td>\n",
       "      <td>ape together strong</td>\n",
       "    </tr>\n",
       "  </tbody>\n",
       "</table>\n",
       "<p>18777 rows × 6 columns</p>\n",
       "</div>"
      ],
      "text/plain": [
       "            subreddit                                              title  \\\n",
       "0             Bitcoin  Keep being impressed by the S2FX model by Plan...   \n",
       "1             Bitcoin  Perhaps someone will be able to support the fa...   \n",
       "2             Bitcoin                                Bears to the gulag!   \n",
       "3             Bitcoin  Can we have honest discussion about side effec...   \n",
       "4             Bitcoin  Active nfl player going to convert full salary...   \n",
       "...               ...                                                ...   \n",
       "18772  wallstreetbets                     SNDL to the moon 🚀🚀🚀🚀🚀🚀 yolo!!   \n",
       "18773  wallstreetbets  I sent a gift to Ken Griffin at Citadel from A...   \n",
       "18774  wallstreetbets                                           Ay bawse   \n",
       "18775  wallstreetbets  GME/WSB Hype Vid (Haven't personally seen one ...   \n",
       "18776  wallstreetbets                             Apes! Together, strong   \n",
       "\n",
       "                     author  title_length  title_word_count  \\\n",
       "0                  Scream1e            83                15   \n",
       "1               bel-svoboda            76                14   \n",
       "2                   heist95            19                 4   \n",
       "3              Manic_Miner2            79                13   \n",
       "4      Crafty_Supermarket15            57                10   \n",
       "...                     ...           ...               ...   \n",
       "18772              fk232323            30                 6   \n",
       "18773          StockWizard_           119                21   \n",
       "18774       z00tsuitnboogie             8                 2   \n",
       "18775       DistinguishedJB            90                18   \n",
       "18776      NewAgePhilosophr            22                 3   \n",
       "\n",
       "                                             clean_title  \n",
       "0      keep impressed s2fx model planb well predicts ...  \n",
       "1      perhaps someone able support family political ...  \n",
       "2                                             bear gulag  \n",
       "3          honest discussion side effect always positive  \n",
       "4      active nfl player going convert full salary bi...  \n",
       "...                                                  ...  \n",
       "18772                                     sndl moon yolo  \n",
       "18773  sent gift ken griffin citadel amazon com guide...  \n",
       "18774                                           ay bawse  \n",
       "18775  gme wsb hype vid personally seen one week two ...  \n",
       "18776                                ape together strong  \n",
       "\n",
       "[18777 rows x 6 columns]"
      ]
     },
     "execution_count": 21,
     "metadata": {},
     "output_type": "execute_result"
    }
   ],
   "source": [
    "subreddit_df = pd.read_csv('../data/clean_data.csv')\n",
    "subreddit_df"
   ]
  },
  {
   "cell_type": "code",
   "execution_count": 22,
   "metadata": {},
   "outputs": [
    {
     "data": {
      "text/plain": [
       "subreddit            0\n",
       "title                0\n",
       "author               0\n",
       "title_length         0\n",
       "title_word_count     0\n",
       "clean_title         38\n",
       "dtype: int64"
      ]
     },
     "execution_count": 22,
     "metadata": {},
     "output_type": "execute_result"
    }
   ],
   "source": [
    "subreddit_df.isna().sum() #check for NaNs"
   ]
  },
  {
   "cell_type": "code",
   "execution_count": 23,
   "metadata": {},
   "outputs": [],
   "source": [
    "subreddit_df.dropna(inplace = True) #drop NanS"
   ]
  },
  {
   "cell_type": "markdown",
   "metadata": {},
   "source": [
    "## EDA\n",
    "#### Most Occuring Words Visualization"
   ]
  },
  {
   "cell_type": "code",
   "execution_count": 24,
   "metadata": {},
   "outputs": [],
   "source": [
    "cvect = CountVectorizer()\n",
    "dtm = cvect.fit_transform(subreddit_df['clean_title'])"
   ]
  },
  {
   "cell_type": "code",
   "execution_count": 25,
   "metadata": {},
   "outputs": [],
   "source": [
    "dtm_array = dtm.toarray()"
   ]
  },
  {
   "cell_type": "code",
   "execution_count": 26,
   "metadata": {},
   "outputs": [],
   "source": [
    "df2 = pd.DataFrame(dtm_array, columns = cvect.get_feature_names())"
   ]
  },
  {
   "cell_type": "code",
   "execution_count": 27,
   "metadata": {},
   "outputs": [
    {
     "data": {
      "text/plain": [
       "bitcoin    3532\n",
       "btc         858\n",
       "buy         858\n",
       "crypto      754\n",
       "stock       712\n",
       "moon        615\n",
       "get         586\n",
       "mvis        584\n",
       "new         581\n",
       "gme         554\n",
       "time        508\n",
       "short       507\n",
       "market      488\n",
       "like        482\n",
       "coin        452\n",
       "day         447\n",
       "go          438\n",
       "yolo        432\n",
       "ape         422\n",
       "money       395\n",
       "dtype: int64"
      ]
     },
     "execution_count": 27,
     "metadata": {},
     "output_type": "execute_result"
    }
   ],
   "source": [
    "df2.sum().sort_values(ascending = False)[:20] #20 most popular words with our clean titles"
   ]
  },
  {
   "cell_type": "code",
   "execution_count": 28,
   "metadata": {},
   "outputs": [
    {
     "data": {
      "image/png": "[encoded data removed]",
      "text/plain": [
       "<Figure size 576x432 with 1 Axes>"
      ]
     },
     "metadata": {
      "needs_background": "light"
     },
     "output_type": "display_data"
    }
   ],
   "source": [
    "df2.sum().sort_values(ascending = False)[:20].plot(kind = 'barh', figsize = (8, 6), color = ['teal'])\n",
    "plt.xlabel('Count')\n",
    "plt.ylabel('Words');\n",
    "plt.title('Most Occuring Words in r/bitcoin and r/wallstreetbets');\n",
    "# we notice some words that are common in both subreddits like: moon, time, buy"
   ]
  },
  {
   "cell_type": "code",
   "execution_count": 29,
   "metadata": {},
   "outputs": [],
   "source": [
    "#common words from each subreddit"
   ]
  },
  {
   "cell_type": "code",
   "execution_count": 30,
   "metadata": {},
   "outputs": [
    {
     "data": {
      "text/plain": [
       "bitcoin        3532\n",
       "btc             858\n",
       "crypto          754\n",
       "buy             456\n",
       "wallet          320\n",
       "get             319\n",
       "new             291\n",
       "dip             274\n",
       "2021            262\n",
       "coin            257\n",
       "time            252\n",
       "mining          251\n",
       "market          249\n",
       "price           243\n",
       "coinbase        237\n",
       "transaction     227\n",
       "money           226\n",
       "like            219\n",
       "help            210\n",
       "exchange        197\n",
       "dtype: int64"
      ]
     },
     "execution_count": 30,
     "metadata": {},
     "output_type": "execute_result"
    }
   ],
   "source": [
    "dtm2 = cvect.fit_transform(subreddit_df.loc[subreddit_df['subreddit'] == 'Bitcoin']['clean_title'])\n",
    "\n",
    "dtm2_array = dtm2.toarray()\n",
    "\n",
    "df3 = pd.DataFrame(dtm2_array, columns = cvect.get_feature_names())\n",
    "\n",
    "df3.sum().sort_values(ascending = False)[:20] #20 most frequent words with our clean titles"
   ]
  },
  {
   "cell_type": "code",
   "execution_count": 31,
   "metadata": {},
   "outputs": [
    {
     "data": {
      "image/png": "[encoded data removed]",
      "text/plain": [
       "<Figure size 576x432 with 1 Axes>"
      ]
     },
     "metadata": {
      "needs_background": "light"
     },
     "output_type": "display_data"
    }
   ],
   "source": [
    "df3.sum().sort_values(ascending = False)[:20].plot(kind = 'barh', figsize = (8, 6), color = ['orange'])\n",
    "plt.xlabel('Count')\n",
    "plt.ylabel('Words');\n",
    "plt.title('Most Occuring Words in r/bitcoin');"
   ]
  },
  {
   "cell_type": "code",
   "execution_count": 32,
   "metadata": {},
   "outputs": [
    {
     "data": {
      "text/plain": [
       "stock      629\n",
       "mvis       584\n",
       "gme        552\n",
       "moon       537\n",
       "short      469\n",
       "yolo       427\n",
       "ape        420\n",
       "buy        402\n",
       "amc        324\n",
       "share      294\n",
       "new        290\n",
       "go         287\n",
       "let        284\n",
       "get        267\n",
       "day        267\n",
       "like       263\n",
       "time       256\n",
       "going      240\n",
       "market     239\n",
       "squeeze    238\n",
       "dtype: int64"
      ]
     },
     "execution_count": 32,
     "metadata": {},
     "output_type": "execute_result"
    }
   ],
   "source": [
    "dtm3 = cvect.fit_transform(subreddit_df.loc[subreddit_df['subreddit'] == 'wallstreetbets']['clean_title'])\n",
    "dtm3_array = dtm3.toarray()\n",
    "df4 = pd.DataFrame(dtm3_array, columns = cvect.get_feature_names())\n",
    "df4.sum().sort_values(ascending = False)[:20] "
   ]
  },
  {
   "cell_type": "code",
   "execution_count": 33,
   "metadata": {},
   "outputs": [
    {
     "data": {
      "image/png": "[encoded data removed]",
      "text/plain": [
       "<Figure size 576x432 with 1 Axes>"
      ]
     },
     "metadata": {
      "needs_background": "light"
     },
     "output_type": "display_data"
    }
   ],
   "source": [
    "df4.sum().sort_values(ascending = False)[:20].plot(kind = 'barh', figsize = (8, 6), color = ['darkgreen'])\n",
    "plt.xlabel('Count')\n",
    "plt.ylabel('Words');\n",
    "plt.title('Most Occuring Words in r/wallstreetbets');"
   ]
  },
  {
   "cell_type": "markdown",
   "metadata": {},
   "source": [
    "### Unique Posting Users per Subreddit"
   ]
  },
  {
   "cell_type": "code",
   "execution_count": 34,
   "metadata": {},
   "outputs": [],
   "source": [
    "unique_users = subreddit_df.groupby('subreddit')['author'].nunique() "
   ]
  },
  {
   "cell_type": "code",
   "execution_count": 35,
   "metadata": {},
   "outputs": [],
   "source": [
    "unique_users = pd.DataFrame(unique_users)"
   ]
  },
  {
   "cell_type": "code",
   "execution_count": 36,
   "metadata": {},
   "outputs": [
    {
     "data": {
      "text/html": [
       "<div>\n",
       "<style scoped>\n",
       "    .dataframe tbody tr th:only-of-type {\n",
       "        vertical-align: middle;\n",
       "    }\n",
       "\n",
       "    .dataframe tbody tr th {\n",
       "        vertical-align: top;\n",
       "    }\n",
       "\n",
       "    .dataframe thead th {\n",
       "        text-align: right;\n",
       "    }\n",
       "</style>\n",
       "<table border=\"1\" class=\"dataframe\">\n",
       "  <thead>\n",
       "    <tr style=\"text-align: right;\">\n",
       "      <th>subreddit</th>\n",
       "      <th>Bitcoin</th>\n",
       "      <th>wallstreetbets</th>\n",
       "    </tr>\n",
       "  </thead>\n",
       "  <tbody>\n",
       "    <tr>\n",
       "      <th>author</th>\n",
       "      <td>6175</td>\n",
       "      <td>6800</td>\n",
       "    </tr>\n",
       "  </tbody>\n",
       "</table>\n",
       "</div>"
      ],
      "text/plain": [
       "subreddit  Bitcoin  wallstreetbets\n",
       "author        6175            6800"
      ]
     },
     "execution_count": 36,
     "metadata": {},
     "output_type": "execute_result"
    }
   ],
   "source": [
    "unique_users.T #solid amount of unique posters in our data"
   ]
  },
  {
   "cell_type": "code",
   "execution_count": 37,
   "metadata": {},
   "outputs": [
    {
     "data": {
      "image/png": "[encoded data removed]",
      "text/plain": [
       "<Figure size 432x288 with 1 Axes>"
      ]
     },
     "metadata": {
      "needs_background": "light"
     },
     "output_type": "display_data"
    }
   ],
   "source": [
    "unique_users.plot(kind = 'bar', color = 'indigo');\n",
    "plt.title('Unique Posting Users per Subreddit')\n",
    "plt.ylabel('Count')\n",
    "plt.xlabel('Subreddit');"
   ]
  },
  {
   "cell_type": "markdown",
   "metadata": {},
   "source": [
    "### Word Count Distribution by Subreddit"
   ]
  },
  {
   "cell_type": "code",
   "execution_count": 38,
   "metadata": {},
   "outputs": [],
   "source": [
    "btc_2 = subreddit_df.loc[subreddit_df['subreddit'] == 'Bitcoin']\n",
    "wsb_2 = subreddit_df.loc[subreddit_df['subreddit'] == 'wallstreetbets'] #locate our subreddits in out subreddit_df as done before"
   ]
  },
  {
   "cell_type": "code",
   "execution_count": 39,
   "metadata": {},
   "outputs": [
    {
     "data": {
      "image/png": "[encoded data removed]",
      "text/plain": [
       "<Figure size 936x576 with 1 Axes>"
      ]
     },
     "metadata": {
      "needs_background": "light"
     },
     "output_type": "display_data"
    }
   ],
   "source": [
    "plt.figure(figsize = (13,8)) #plot the subreddits by title word count\n",
    "sns.distplot(btc_2['title_word_count'], label = 'Bitcoin', color = 'orange'); #orange for bitcoin color\n",
    "sns.distplot(wsb_2['title_word_count'], label = 'WallStreetBets', color = 'darkgreen'); #darkgreen for cashmoney\n",
    "\n",
    "plt.title('Word Count Distribution by Subreddit', fontsize = 18)\n",
    "plt.xlabel('Word Count', fontsize = 14)\n",
    "plt.legend(fontsize = 14);\n",
    "#we see alot of overlap!"
   ]
  },
  {
   "cell_type": "markdown",
   "metadata": {},
   "source": [
    "### Average Word Count per Subreddit"
   ]
  },
  {
   "cell_type": "code",
   "execution_count": 40,
   "metadata": {},
   "outputs": [
    {
     "data": {
      "image/png": "[encoded data removed]",
      "text/plain": [
       "<Figure size 432x288 with 1 Axes>"
      ]
     },
     "metadata": {
      "needs_background": "light"
     },
     "output_type": "display_data"
    }
   ],
   "source": [
    "subreddit_df.groupby('subreddit')['title_word_count'].mean().plot(kind = 'bar')\n",
    "plt.title('Average Word Count per Subreddit')\n",
    "plt.ylabel('Word Count')\n",
    "plt.xlabel('Subreddit');"
   ]
  },
  {
   "cell_type": "code",
   "execution_count": 41,
   "metadata": {},
   "outputs": [],
   "source": [
    "subreddit_df.to_csv('../data/clean_data.csv', index = False) #save oura data again"
   ]
  },
  {
   "cell_type": "code",
   "execution_count": 42,
   "metadata": {},
   "outputs": [
    {
     "data": {
      "text/html": [
       "<div>\n",
       "<style scoped>\n",
       "    .dataframe tbody tr th:only-of-type {\n",
       "        vertical-align: middle;\n",
       "    }\n",
       "\n",
       "    .dataframe tbody tr th {\n",
       "        vertical-align: top;\n",
       "    }\n",
       "\n",
       "    .dataframe thead th {\n",
       "        text-align: right;\n",
       "    }\n",
       "</style>\n",
       "<table border=\"1\" class=\"dataframe\">\n",
       "  <thead>\n",
       "    <tr style=\"text-align: right;\">\n",
       "      <th></th>\n",
       "      <th>subreddit</th>\n",
       "      <th>title</th>\n",
       "      <th>author</th>\n",
       "      <th>title_length</th>\n",
       "      <th>title_word_count</th>\n",
       "      <th>clean_title</th>\n",
       "    </tr>\n",
       "  </thead>\n",
       "  <tbody>\n",
       "    <tr>\n",
       "      <th>0</th>\n",
       "      <td>Bitcoin</td>\n",
       "      <td>Keep being impressed by the S2FX model by Plan...</td>\n",
       "      <td>Scream1e</td>\n",
       "      <td>83</td>\n",
       "      <td>15</td>\n",
       "      <td>keep impressed s2fx model planb well predicts ...</td>\n",
       "    </tr>\n",
       "    <tr>\n",
       "      <th>1</th>\n",
       "      <td>Bitcoin</td>\n",
       "      <td>Perhaps someone will be able to support the fa...</td>\n",
       "      <td>bel-svoboda</td>\n",
       "      <td>76</td>\n",
       "      <td>14</td>\n",
       "      <td>perhaps someone able support family political ...</td>\n",
       "    </tr>\n",
       "    <tr>\n",
       "      <th>2</th>\n",
       "      <td>Bitcoin</td>\n",
       "      <td>Bears to the gulag!</td>\n",
       "      <td>heist95</td>\n",
       "      <td>19</td>\n",
       "      <td>4</td>\n",
       "      <td>bear gulag</td>\n",
       "    </tr>\n",
       "    <tr>\n",
       "      <th>3</th>\n",
       "      <td>Bitcoin</td>\n",
       "      <td>Can we have honest discussion about side effec...</td>\n",
       "      <td>Manic_Miner2</td>\n",
       "      <td>79</td>\n",
       "      <td>13</td>\n",
       "      <td>honest discussion side effect always positive</td>\n",
       "    </tr>\n",
       "    <tr>\n",
       "      <th>4</th>\n",
       "      <td>Bitcoin</td>\n",
       "      <td>Active nfl player going to convert full salary...</td>\n",
       "      <td>Crafty_Supermarket15</td>\n",
       "      <td>57</td>\n",
       "      <td>10</td>\n",
       "      <td>active nfl player going convert full salary bi...</td>\n",
       "    </tr>\n",
       "    <tr>\n",
       "      <th>...</th>\n",
       "      <td>...</td>\n",
       "      <td>...</td>\n",
       "      <td>...</td>\n",
       "      <td>...</td>\n",
       "      <td>...</td>\n",
       "      <td>...</td>\n",
       "    </tr>\n",
       "    <tr>\n",
       "      <th>18772</th>\n",
       "      <td>wallstreetbets</td>\n",
       "      <td>SNDL to the moon 🚀🚀🚀🚀🚀🚀 yolo!!</td>\n",
       "      <td>fk232323</td>\n",
       "      <td>30</td>\n",
       "      <td>6</td>\n",
       "      <td>sndl moon yolo</td>\n",
       "    </tr>\n",
       "    <tr>\n",
       "      <th>18773</th>\n",
       "      <td>wallstreetbets</td>\n",
       "      <td>I sent a gift to Ken Griffin at Citadel from A...</td>\n",
       "      <td>StockWizard_</td>\n",
       "      <td>119</td>\n",
       "      <td>21</td>\n",
       "      <td>sent gift ken griffin citadel amazon com guide...</td>\n",
       "    </tr>\n",
       "    <tr>\n",
       "      <th>18774</th>\n",
       "      <td>wallstreetbets</td>\n",
       "      <td>Ay bawse</td>\n",
       "      <td>z00tsuitnboogie</td>\n",
       "      <td>8</td>\n",
       "      <td>2</td>\n",
       "      <td>ay bawse</td>\n",
       "    </tr>\n",
       "    <tr>\n",
       "      <th>18775</th>\n",
       "      <td>wallstreetbets</td>\n",
       "      <td>GME/WSB Hype Vid (Haven't personally seen one ...</td>\n",
       "      <td>DistinguishedJB</td>\n",
       "      <td>90</td>\n",
       "      <td>18</td>\n",
       "      <td>gme wsb hype vid personally seen one week two ...</td>\n",
       "    </tr>\n",
       "    <tr>\n",
       "      <th>18776</th>\n",
       "      <td>wallstreetbets</td>\n",
       "      <td>Apes! Together, strong</td>\n",
       "      <td>NewAgePhilosophr</td>\n",
       "      <td>22</td>\n",
       "      <td>3</td>\n",
       "      <td>ape together strong</td>\n",
       "    </tr>\n",
       "  </tbody>\n",
       "</table>\n",
       "<p>18739 rows × 6 columns</p>\n",
       "</div>"
      ],
      "text/plain": [
       "            subreddit                                              title  \\\n",
       "0             Bitcoin  Keep being impressed by the S2FX model by Plan...   \n",
       "1             Bitcoin  Perhaps someone will be able to support the fa...   \n",
       "2             Bitcoin                                Bears to the gulag!   \n",
       "3             Bitcoin  Can we have honest discussion about side effec...   \n",
       "4             Bitcoin  Active nfl player going to convert full salary...   \n",
       "...               ...                                                ...   \n",
       "18772  wallstreetbets                     SNDL to the moon 🚀🚀🚀🚀🚀🚀 yolo!!   \n",
       "18773  wallstreetbets  I sent a gift to Ken Griffin at Citadel from A...   \n",
       "18774  wallstreetbets                                           Ay bawse   \n",
       "18775  wallstreetbets  GME/WSB Hype Vid (Haven't personally seen one ...   \n",
       "18776  wallstreetbets                             Apes! Together, strong   \n",
       "\n",
       "                     author  title_length  title_word_count  \\\n",
       "0                  Scream1e            83                15   \n",
       "1               bel-svoboda            76                14   \n",
       "2                   heist95            19                 4   \n",
       "3              Manic_Miner2            79                13   \n",
       "4      Crafty_Supermarket15            57                10   \n",
       "...                     ...           ...               ...   \n",
       "18772              fk232323            30                 6   \n",
       "18773          StockWizard_           119                21   \n",
       "18774       z00tsuitnboogie             8                 2   \n",
       "18775       DistinguishedJB            90                18   \n",
       "18776      NewAgePhilosophr            22                 3   \n",
       "\n",
       "                                             clean_title  \n",
       "0      keep impressed s2fx model planb well predicts ...  \n",
       "1      perhaps someone able support family political ...  \n",
       "2                                             bear gulag  \n",
       "3          honest discussion side effect always positive  \n",
       "4      active nfl player going convert full salary bi...  \n",
       "...                                                  ...  \n",
       "18772                                     sndl moon yolo  \n",
       "18773  sent gift ken griffin citadel amazon com guide...  \n",
       "18774                                           ay bawse  \n",
       "18775  gme wsb hype vid personally seen one week two ...  \n",
       "18776                                ape together strong  \n",
       "\n",
       "[18739 rows x 6 columns]"
      ]
     },
     "execution_count": 42,
     "metadata": {},
     "output_type": "execute_result"
    }
   ],
   "source": [
    "subreddit_df"
   ]
  },
  {
   "cell_type": "markdown",
   "metadata": {},
   "source": [
    "### Short Summary Statistics"
   ]
  },
  {
   "cell_type": "code",
   "execution_count": 43,
   "metadata": {},
   "outputs": [
    {
     "name": "stdout",
     "output_type": "stream",
     "text": [
      "<class 'pandas.core.frame.DataFrame'>\n",
      "Int64Index: 18739 entries, 0 to 18776\n",
      "Data columns (total 6 columns):\n",
      " #   Column            Non-Null Count  Dtype \n",
      "---  ------            --------------  ----- \n",
      " 0   subreddit         18739 non-null  object\n",
      " 1   title             18739 non-null  object\n",
      " 2   author            18739 non-null  object\n",
      " 3   title_length      18739 non-null  int64 \n",
      " 4   title_word_count  18739 non-null  int64 \n",
      " 5   clean_title       18739 non-null  object\n",
      "dtypes: int64(2), object(4)\n",
      "memory usage: 1.0+ MB\n"
     ]
    }
   ],
   "source": [
    "subreddit_df.info() #18739 entries, solid amount"
   ]
  },
  {
   "cell_type": "code",
   "execution_count": 44,
   "metadata": {},
   "outputs": [
    {
     "data": {
      "text/html": [
       "<div>\n",
       "<style scoped>\n",
       "    .dataframe tbody tr th:only-of-type {\n",
       "        vertical-align: middle;\n",
       "    }\n",
       "\n",
       "    .dataframe tbody tr th {\n",
       "        vertical-align: top;\n",
       "    }\n",
       "\n",
       "    .dataframe thead th {\n",
       "        text-align: right;\n",
       "    }\n",
       "</style>\n",
       "<table border=\"1\" class=\"dataframe\">\n",
       "  <thead>\n",
       "    <tr style=\"text-align: right;\">\n",
       "      <th></th>\n",
       "      <th>title_length</th>\n",
       "      <th>title_word_count</th>\n",
       "    </tr>\n",
       "  </thead>\n",
       "  <tbody>\n",
       "    <tr>\n",
       "      <th>count</th>\n",
       "      <td>18739.000000</td>\n",
       "      <td>18739.000000</td>\n",
       "    </tr>\n",
       "    <tr>\n",
       "      <th>mean</th>\n",
       "      <td>56.122739</td>\n",
       "      <td>9.990821</td>\n",
       "    </tr>\n",
       "    <tr>\n",
       "      <th>std</th>\n",
       "      <td>47.301940</td>\n",
       "      <td>8.411191</td>\n",
       "    </tr>\n",
       "    <tr>\n",
       "      <th>min</th>\n",
       "      <td>5.000000</td>\n",
       "      <td>2.000000</td>\n",
       "    </tr>\n",
       "    <tr>\n",
       "      <th>25%</th>\n",
       "      <td>25.000000</td>\n",
       "      <td>5.000000</td>\n",
       "    </tr>\n",
       "    <tr>\n",
       "      <th>50%</th>\n",
       "      <td>42.000000</td>\n",
       "      <td>8.000000</td>\n",
       "    </tr>\n",
       "    <tr>\n",
       "      <th>75%</th>\n",
       "      <td>70.000000</td>\n",
       "      <td>12.000000</td>\n",
       "    </tr>\n",
       "    <tr>\n",
       "      <th>max</th>\n",
       "      <td>308.000000</td>\n",
       "      <td>66.000000</td>\n",
       "    </tr>\n",
       "  </tbody>\n",
       "</table>\n",
       "</div>"
      ],
      "text/plain": [
       "       title_length  title_word_count\n",
       "count  18739.000000      18739.000000\n",
       "mean      56.122739          9.990821\n",
       "std       47.301940          8.411191\n",
       "min        5.000000          2.000000\n",
       "25%       25.000000          5.000000\n",
       "50%       42.000000          8.000000\n",
       "75%       70.000000         12.000000\n",
       "max      308.000000         66.000000"
      ]
     },
     "execution_count": 44,
     "metadata": {},
     "output_type": "execute_result"
    }
   ],
   "source": [
    "subreddit_df.describe()"
   ]
  },
  {
   "cell_type": "code",
   "execution_count": 45,
   "metadata": {},
   "outputs": [
    {
     "data": {
      "text/html": [
       "<div>\n",
       "<style scoped>\n",
       "    .dataframe tbody tr th:only-of-type {\n",
       "        vertical-align: middle;\n",
       "    }\n",
       "\n",
       "    .dataframe tbody tr th {\n",
       "        vertical-align: top;\n",
       "    }\n",
       "\n",
       "    .dataframe thead th {\n",
       "        text-align: right;\n",
       "    }\n",
       "</style>\n",
       "<table border=\"1\" class=\"dataframe\">\n",
       "  <thead>\n",
       "    <tr style=\"text-align: right;\">\n",
       "      <th></th>\n",
       "      <th>title_length</th>\n",
       "      <th>title_word_count</th>\n",
       "    </tr>\n",
       "  </thead>\n",
       "  <tbody>\n",
       "    <tr>\n",
       "      <th>title_length</th>\n",
       "      <td>1.000000</td>\n",
       "      <td>0.973184</td>\n",
       "    </tr>\n",
       "    <tr>\n",
       "      <th>title_word_count</th>\n",
       "      <td>0.973184</td>\n",
       "      <td>1.000000</td>\n",
       "    </tr>\n",
       "  </tbody>\n",
       "</table>\n",
       "</div>"
      ],
      "text/plain": [
       "                  title_length  title_word_count\n",
       "title_length          1.000000          0.973184\n",
       "title_word_count      0.973184          1.000000"
      ]
     },
     "execution_count": 45,
     "metadata": {},
     "output_type": "execute_result"
    }
   ],
   "source": [
    "subreddit_df.corr()"
   ]
  },
  {
   "cell_type": "code",
   "execution_count": 46,
   "metadata": {},
   "outputs": [
    {
     "data": {
      "image/png": "[encoded data removed]",
      "text/plain": [
       "<Figure size 432x288 with 2 Axes>"
      ]
     },
     "metadata": {
      "needs_background": "light"
     },
     "output_type": "display_data"
    }
   ],
   "source": [
    "sns.heatmap(subreddit_df.corr(), annot = True, cmap = 'inferno'); #obvious correlation of title length and word count"
   ]
  },
  {
   "cell_type": "code",
   "execution_count": 47,
   "metadata": {},
   "outputs": [
    {
     "data": {
      "image/png": "[encoded data removed]",
      "text/plain": [
       "<Figure size 360x360 with 6 Axes>"
      ]
     },
     "metadata": {
      "needs_background": "light"
     },
     "output_type": "display_data"
    }
   ],
   "source": [
    "sns.pairplot(subreddit_df); #pairplot"
   ]
  },
  {
   "cell_type": "markdown",
   "metadata": {
    "tags": []
   },
   "source": [
    "# What we Found"
   ]
  },
  {
   "cell_type": "markdown",
   "metadata": {
    "tags": []
   },
   "source": [
    "Our Data is fairly balanced and subreddits are similarly distributed based on our different visualization. Good amount of unique users. We also found the most frequent words in each subreddit as well.\n",
    "\n",
    "Distribution of word count per title is very close between subreddits too.\n",
    "\n",
    "I suspect that although the subreddits titles have some overlap in terms, we will be able to accuratley predict\n",
    "which Title came from each subreddit based off our our final clean dataset.\n",
    "\n",
    "We have 18739 entires, almost evenly distributed between bitcoin/wallstreet bets.\n",
    "\n",
    "It will be very interesting to see what our finals models will assess, excited to see how they perform."
   ]
  },
  {
   "cell_type": "markdown",
   "metadata": {},
   "source": [
    "Note: r/bitcoin has 2.8m members, wsb has 10m members"
   ]
  }
 ],
 "metadata": {
  "kernelspec": {
   "display_name": "Python 3",
   "language": "python",
   "name": "python3"
  },
  "language_info": {
   "codemirror_mode": {
    "name": "ipython",
    "version": 3
   },
   "file_extension": ".py",
   "mimetype": "text/x-python",
   "name": "python",
   "nbconvert_exporter": "python",
   "pygments_lexer": "ipython3",
   "version": "3.8.5"
  }
 },
 "nbformat": 4,
 "nbformat_minor": 4
}
